{
 "cells": [
  {
   "cell_type": "markdown",
   "id": "2a22969d-14d8-430d-84af-2ce7c2e5cf29",
   "metadata": {},
   "source": [
    "# 测试集总体准确率评估指标\n",
    "\n",
    "分析测试集预测结果表格，计算总体准确率评估指标和各类别准确率评估指标。\n",
    "\n",
    "同济子豪兄：https://space.bilibili.com/1900783"
   ]
  },
  {
   "cell_type": "markdown",
   "id": "6126ed04-a127-4d55-8a4b-aeb5d440039c",
   "metadata": {},
   "source": [
    "## 导入工具包"
   ]
  },
  {
   "cell_type": "code",
   "execution_count": 3,
   "id": "4c48d4e8-5de7-4d6f-9e6d-c5f799f1223d",
   "metadata": {
    "ExecuteTime": {
     "end_time": "2023-10-25T14:28:40.873174100Z",
     "start_time": "2023-10-25T14:28:40.855170600Z"
    }
   },
   "outputs": [],
   "source": [
    "import pandas as pd\n",
    "import numpy as np\n",
    "from tqdm import tqdm"
   ]
  },
  {
   "cell_type": "markdown",
   "id": "f1d831d0-8192-4db6-b913-ef7327463f35",
   "metadata": {},
   "source": [
    "## 载入类别名称和ID"
   ]
  },
  {
   "cell_type": "code",
   "execution_count": 4,
   "id": "00c507c4-c990-4326-b479-4b18e8aa50da",
   "metadata": {
    "ExecuteTime": {
     "end_time": "2023-10-25T14:28:41.914230300Z",
     "start_time": "2023-10-25T14:28:41.892232700Z"
    }
   },
   "outputs": [
    {
     "name": "stdout",
     "output_type": "stream",
     "text": [
      "['云', '仓鼠', '兔子', '兰花', '割草机', '向日葵', '城堡', '大海', '大象', '女人', '女孩', '小婴儿', '山', '巴士', '平原', '床', '恐龙', '房屋', '拖拉机', '摩天大楼', '摩托车', '时钟', '有轨电车', '杯子', '松树', '松鼠', '枫树', '柳树', '桌子', '桥', '梨', '棕榈树', '森林', '椅子', '橘子', '橡树', '比目鱼', '毛虫', '水族馆鱼类', '水濑', '沙发', '浣熊', '海狸', '海豚', '海豹', '海龟', '火箭', '火车', '灯', '熊', '牛', '狐狸', '狮子', '狼', '玫瑰', '瓶子', '甜椒', '甲虫', '电视', '电话', '男人', '男孩', '皮卡', '盘子', '碗', '箱子', '罂粟', '老虎', '老鼠', '自行车', '臭鼬', '苹果', '蘑菇', '蛇', '蜗牛', '蜘蛛', '蜜蜂', '蜥蜴', '蝴蝶', '螃蟹', '蟑螂', '蠕虫', '衣柜', '袋鼠', '豪猪', '豹', '负鼠', '郁金香', '金属罐', '键盘', '马路', '骆驼', '鲨鱼', '鲸鱼', '鳄鱼', '鳐', '鳟鱼', '黑猩猩', '鼩鼱', '龙虾']\n"
     ]
    }
   ],
   "source": [
    "idx_to_labels = np.load('idx_to_labels.npy', allow_pickle=True).item()\n",
    "# 获得类别名称\n",
    "classes = list(idx_to_labels.values())\n",
    "print(classes)"
   ]
  },
  {
   "cell_type": "markdown",
   "id": "a25de944-2532-472c-af77-6b8eaacfa916",
   "metadata": {},
   "source": [
    "## 载入测试集预测结果表格"
   ]
  },
  {
   "cell_type": "code",
   "execution_count": 5,
   "id": "42c95441-d023-4fc2-897b-3f6a7f86e017",
   "metadata": {
    "ExecuteTime": {
     "end_time": "2023-10-25T14:28:44.553347400Z",
     "start_time": "2023-10-25T14:28:44.173348600Z"
    }
   },
   "outputs": [],
   "source": [
    "df = pd.read_csv('测试集预测结果.csv')"
   ]
  },
  {
   "cell_type": "code",
   "execution_count": 6,
   "id": "917a75bd-bd3f-4105-aa3c-0fce5e4d1fda",
   "metadata": {
    "ExecuteTime": {
     "end_time": "2023-10-25T14:28:45.806166300Z",
     "start_time": "2023-10-25T14:28:45.750163Z"
    }
   },
   "outputs": [
    {
     "data": {
      "text/plain": "                                  图像路径  标注类别ID 标注类别名称  top-1-预测ID top-1-预测名称  \\\n0        D:\\dataset\\c100sp\\val\\云\\1.jpg       0      云           0          云   \n1      D:\\dataset\\c100sp\\val\\云\\104.jpg       0      云           0          云   \n2      D:\\dataset\\c100sp\\val\\云\\114.jpg       0      云           0          云   \n3      D:\\dataset\\c100sp\\val\\云\\117.jpg       0      云          12          山   \n4      D:\\dataset\\c100sp\\val\\云\\119.jpg       0      云           0          云   \n...                                ...     ...    ...         ...        ...   \n9973  D:\\dataset\\c100sp\\val\\龙虾\\66.jpeg      99     龙虾          99         龙虾   \n9974   D:\\dataset\\c100sp\\val\\龙虾\\73.jpg      99     龙虾          99         龙虾   \n9975   D:\\dataset\\c100sp\\val\\龙虾\\77.jpg      99     龙虾          80         蟑螂   \n9976   D:\\dataset\\c100sp\\val\\龙虾\\95.jpg      99     龙虾          99         龙虾   \n9977   D:\\dataset\\c100sp\\val\\龙虾\\98.jpg      99     龙虾          99         龙虾   \n\n      top-2-预测ID top-2-预测名称  top-3-预测ID top-3-预测名称  top-n预测正确  ...  \\\n0              7         大海          32         森林       True  ...   \n1             14         平原           7         大海       True  ...   \n2             24         松树          35         橡树       True  ...   \n3             47         火车          32         森林      False  ...   \n4              7         大海          31        棕榈树       True  ...   \n...          ...        ...         ...        ...        ...  ...   \n9973          81         蠕虫          80         蟑螂       True  ...   \n9974          50          牛          81         蠕虫       True  ...   \n9975          99         龙虾          81         蠕虫       True  ...   \n9976          79         螃蟹          50          牛       True  ...   \n9977          81         蠕虫          75         蜘蛛       True  ...   \n\n          马路-预测置信度      骆驼-预测置信度      鲨鱼-预测置信度      鲸鱼-预测置信度      鳄鱼-预测置信度  \\\n0     6.808811e-05  5.704401e-06  1.006844e-07  2.121723e-05  1.959424e-08   \n1     5.304001e-03  7.303372e-04  1.049881e-05  2.298501e-04  3.995917e-05   \n2     3.127881e-02  4.698958e-04  8.852244e-06  6.373658e-05  8.390662e-06   \n3     6.684758e-03  6.495722e-04  1.045570e-04  4.610910e-03  2.452151e-04   \n4     7.819054e-05  1.066173e-04  8.889958e-07  4.208753e-05  1.415598e-06   \n...            ...           ...           ...           ...           ...   \n9973  1.697151e-12  7.919632e-09  7.389093e-07  4.936544e-09  5.208966e-07   \n9974  8.498043e-10  6.995301e-10  3.314525e-08  2.636215e-09  3.693882e-09   \n9975  5.066156e-11  9.702597e-10  5.514436e-08  2.021109e-08  1.714947e-07   \n9976  3.871194e-12  1.293502e-11  3.585954e-09  4.776732e-12  7.719805e-11   \n9977  7.318602e-11  9.626546e-11  9.264410e-09  1.136034e-09  3.037451e-08   \n\n           鳐-预测置信度      鳟鱼-预测置信度     黑猩猩-预测置信度      鼩鼱-预测置信度      龙虾-预测置信度  \n0     3.383883e-08  5.247110e-09  1.189157e-10  8.070859e-08  7.478248e-08  \n1     1.474082e-06  3.261636e-05  7.850291e-07  1.024485e-05  4.813013e-07  \n2     2.718433e-06  1.127651e-05  5.401724e-08  5.945326e-06  2.524639e-06  \n3     6.439446e-05  1.660972e-05  4.157347e-06  9.510479e-04  5.049789e-06  \n4     4.487404e-05  8.486018e-08  2.322634e-09  2.091912e-06  1.663505e-06  \n...            ...           ...           ...           ...           ...  \n9973  9.674350e-07  2.530861e-07  8.057521e-13  9.200296e-07  9.993898e-01  \n9974  3.335357e-05  3.883537e-08  3.358087e-09  1.055975e-06  9.998168e-01  \n9975  2.145234e-07  1.832178e-08  1.772436e-10  1.872051e-06  1.740439e-03  \n9976  5.685067e-07  5.000437e-08  2.180679e-11  9.920511e-09  9.999638e-01  \n9977  4.344764e-07  1.636877e-07  1.295070e-10  2.038804e-07  9.999560e-01  \n\n[9978 rows x 110 columns]",
      "text/html": "<div>\n<style scoped>\n    .dataframe tbody tr th:only-of-type {\n        vertical-align: middle;\n    }\n\n    .dataframe tbody tr th {\n        vertical-align: top;\n    }\n\n    .dataframe thead th {\n        text-align: right;\n    }\n</style>\n<table border=\"1\" class=\"dataframe\">\n  <thead>\n    <tr style=\"text-align: right;\">\n      <th></th>\n      <th>图像路径</th>\n      <th>标注类别ID</th>\n      <th>标注类别名称</th>\n      <th>top-1-预测ID</th>\n      <th>top-1-预测名称</th>\n      <th>top-2-预测ID</th>\n      <th>top-2-预测名称</th>\n      <th>top-3-预测ID</th>\n      <th>top-3-预测名称</th>\n      <th>top-n预测正确</th>\n      <th>...</th>\n      <th>马路-预测置信度</th>\n      <th>骆驼-预测置信度</th>\n      <th>鲨鱼-预测置信度</th>\n      <th>鲸鱼-预测置信度</th>\n      <th>鳄鱼-预测置信度</th>\n      <th>鳐-预测置信度</th>\n      <th>鳟鱼-预测置信度</th>\n      <th>黑猩猩-预测置信度</th>\n      <th>鼩鼱-预测置信度</th>\n      <th>龙虾-预测置信度</th>\n    </tr>\n  </thead>\n  <tbody>\n    <tr>\n      <th>0</th>\n      <td>D:\\dataset\\c100sp\\val\\云\\1.jpg</td>\n      <td>0</td>\n      <td>云</td>\n      <td>0</td>\n      <td>云</td>\n      <td>7</td>\n      <td>大海</td>\n      <td>32</td>\n      <td>森林</td>\n      <td>True</td>\n      <td>...</td>\n      <td>6.808811e-05</td>\n      <td>5.704401e-06</td>\n      <td>1.006844e-07</td>\n      <td>2.121723e-05</td>\n      <td>1.959424e-08</td>\n      <td>3.383883e-08</td>\n      <td>5.247110e-09</td>\n      <td>1.189157e-10</td>\n      <td>8.070859e-08</td>\n      <td>7.478248e-08</td>\n    </tr>\n    <tr>\n      <th>1</th>\n      <td>D:\\dataset\\c100sp\\val\\云\\104.jpg</td>\n      <td>0</td>\n      <td>云</td>\n      <td>0</td>\n      <td>云</td>\n      <td>14</td>\n      <td>平原</td>\n      <td>7</td>\n      <td>大海</td>\n      <td>True</td>\n      <td>...</td>\n      <td>5.304001e-03</td>\n      <td>7.303372e-04</td>\n      <td>1.049881e-05</td>\n      <td>2.298501e-04</td>\n      <td>3.995917e-05</td>\n      <td>1.474082e-06</td>\n      <td>3.261636e-05</td>\n      <td>7.850291e-07</td>\n      <td>1.024485e-05</td>\n      <td>4.813013e-07</td>\n    </tr>\n    <tr>\n      <th>2</th>\n      <td>D:\\dataset\\c100sp\\val\\云\\114.jpg</td>\n      <td>0</td>\n      <td>云</td>\n      <td>0</td>\n      <td>云</td>\n      <td>24</td>\n      <td>松树</td>\n      <td>35</td>\n      <td>橡树</td>\n      <td>True</td>\n      <td>...</td>\n      <td>3.127881e-02</td>\n      <td>4.698958e-04</td>\n      <td>8.852244e-06</td>\n      <td>6.373658e-05</td>\n      <td>8.390662e-06</td>\n      <td>2.718433e-06</td>\n      <td>1.127651e-05</td>\n      <td>5.401724e-08</td>\n      <td>5.945326e-06</td>\n      <td>2.524639e-06</td>\n    </tr>\n    <tr>\n      <th>3</th>\n      <td>D:\\dataset\\c100sp\\val\\云\\117.jpg</td>\n      <td>0</td>\n      <td>云</td>\n      <td>12</td>\n      <td>山</td>\n      <td>47</td>\n      <td>火车</td>\n      <td>32</td>\n      <td>森林</td>\n      <td>False</td>\n      <td>...</td>\n      <td>6.684758e-03</td>\n      <td>6.495722e-04</td>\n      <td>1.045570e-04</td>\n      <td>4.610910e-03</td>\n      <td>2.452151e-04</td>\n      <td>6.439446e-05</td>\n      <td>1.660972e-05</td>\n      <td>4.157347e-06</td>\n      <td>9.510479e-04</td>\n      <td>5.049789e-06</td>\n    </tr>\n    <tr>\n      <th>4</th>\n      <td>D:\\dataset\\c100sp\\val\\云\\119.jpg</td>\n      <td>0</td>\n      <td>云</td>\n      <td>0</td>\n      <td>云</td>\n      <td>7</td>\n      <td>大海</td>\n      <td>31</td>\n      <td>棕榈树</td>\n      <td>True</td>\n      <td>...</td>\n      <td>7.819054e-05</td>\n      <td>1.066173e-04</td>\n      <td>8.889958e-07</td>\n      <td>4.208753e-05</td>\n      <td>1.415598e-06</td>\n      <td>4.487404e-05</td>\n      <td>8.486018e-08</td>\n      <td>2.322634e-09</td>\n      <td>2.091912e-06</td>\n      <td>1.663505e-06</td>\n    </tr>\n    <tr>\n      <th>...</th>\n      <td>...</td>\n      <td>...</td>\n      <td>...</td>\n      <td>...</td>\n      <td>...</td>\n      <td>...</td>\n      <td>...</td>\n      <td>...</td>\n      <td>...</td>\n      <td>...</td>\n      <td>...</td>\n      <td>...</td>\n      <td>...</td>\n      <td>...</td>\n      <td>...</td>\n      <td>...</td>\n      <td>...</td>\n      <td>...</td>\n      <td>...</td>\n      <td>...</td>\n      <td>...</td>\n    </tr>\n    <tr>\n      <th>9973</th>\n      <td>D:\\dataset\\c100sp\\val\\龙虾\\66.jpeg</td>\n      <td>99</td>\n      <td>龙虾</td>\n      <td>99</td>\n      <td>龙虾</td>\n      <td>81</td>\n      <td>蠕虫</td>\n      <td>80</td>\n      <td>蟑螂</td>\n      <td>True</td>\n      <td>...</td>\n      <td>1.697151e-12</td>\n      <td>7.919632e-09</td>\n      <td>7.389093e-07</td>\n      <td>4.936544e-09</td>\n      <td>5.208966e-07</td>\n      <td>9.674350e-07</td>\n      <td>2.530861e-07</td>\n      <td>8.057521e-13</td>\n      <td>9.200296e-07</td>\n      <td>9.993898e-01</td>\n    </tr>\n    <tr>\n      <th>9974</th>\n      <td>D:\\dataset\\c100sp\\val\\龙虾\\73.jpg</td>\n      <td>99</td>\n      <td>龙虾</td>\n      <td>99</td>\n      <td>龙虾</td>\n      <td>50</td>\n      <td>牛</td>\n      <td>81</td>\n      <td>蠕虫</td>\n      <td>True</td>\n      <td>...</td>\n      <td>8.498043e-10</td>\n      <td>6.995301e-10</td>\n      <td>3.314525e-08</td>\n      <td>2.636215e-09</td>\n      <td>3.693882e-09</td>\n      <td>3.335357e-05</td>\n      <td>3.883537e-08</td>\n      <td>3.358087e-09</td>\n      <td>1.055975e-06</td>\n      <td>9.998168e-01</td>\n    </tr>\n    <tr>\n      <th>9975</th>\n      <td>D:\\dataset\\c100sp\\val\\龙虾\\77.jpg</td>\n      <td>99</td>\n      <td>龙虾</td>\n      <td>80</td>\n      <td>蟑螂</td>\n      <td>99</td>\n      <td>龙虾</td>\n      <td>81</td>\n      <td>蠕虫</td>\n      <td>True</td>\n      <td>...</td>\n      <td>5.066156e-11</td>\n      <td>9.702597e-10</td>\n      <td>5.514436e-08</td>\n      <td>2.021109e-08</td>\n      <td>1.714947e-07</td>\n      <td>2.145234e-07</td>\n      <td>1.832178e-08</td>\n      <td>1.772436e-10</td>\n      <td>1.872051e-06</td>\n      <td>1.740439e-03</td>\n    </tr>\n    <tr>\n      <th>9976</th>\n      <td>D:\\dataset\\c100sp\\val\\龙虾\\95.jpg</td>\n      <td>99</td>\n      <td>龙虾</td>\n      <td>99</td>\n      <td>龙虾</td>\n      <td>79</td>\n      <td>螃蟹</td>\n      <td>50</td>\n      <td>牛</td>\n      <td>True</td>\n      <td>...</td>\n      <td>3.871194e-12</td>\n      <td>1.293502e-11</td>\n      <td>3.585954e-09</td>\n      <td>4.776732e-12</td>\n      <td>7.719805e-11</td>\n      <td>5.685067e-07</td>\n      <td>5.000437e-08</td>\n      <td>2.180679e-11</td>\n      <td>9.920511e-09</td>\n      <td>9.999638e-01</td>\n    </tr>\n    <tr>\n      <th>9977</th>\n      <td>D:\\dataset\\c100sp\\val\\龙虾\\98.jpg</td>\n      <td>99</td>\n      <td>龙虾</td>\n      <td>99</td>\n      <td>龙虾</td>\n      <td>81</td>\n      <td>蠕虫</td>\n      <td>75</td>\n      <td>蜘蛛</td>\n      <td>True</td>\n      <td>...</td>\n      <td>7.318602e-11</td>\n      <td>9.626546e-11</td>\n      <td>9.264410e-09</td>\n      <td>1.136034e-09</td>\n      <td>3.037451e-08</td>\n      <td>4.344764e-07</td>\n      <td>1.636877e-07</td>\n      <td>1.295070e-10</td>\n      <td>2.038804e-07</td>\n      <td>9.999560e-01</td>\n    </tr>\n  </tbody>\n</table>\n<p>9978 rows × 110 columns</p>\n</div>"
     },
     "execution_count": 6,
     "metadata": {},
     "output_type": "execute_result"
    }
   ],
   "source": [
    "df"
   ]
  },
  {
   "cell_type": "markdown",
   "id": "9a8b96c3-1d5c-41af-9592-44b839b3f4e4",
   "metadata": {},
   "source": [
    "## 准确率"
   ]
  },
  {
   "cell_type": "code",
   "execution_count": 8,
   "id": "c9886ac3-4640-4ff3-8884-2206af037fac",
   "metadata": {
    "ExecuteTime": {
     "end_time": "2023-10-25T14:28:51.908163700Z",
     "start_time": "2023-10-25T14:28:51.892162700Z"
    }
   },
   "outputs": [
    {
     "data": {
      "text/plain": "0.8671076368009621"
     },
     "execution_count": 8,
     "metadata": {},
     "output_type": "execute_result"
    }
   ],
   "source": [
    "sum(df['标注类别名称'] == df['top-1-预测名称']) / len(df)"
   ]
  },
  {
   "cell_type": "markdown",
   "id": "bf691ba6-ce59-4dcc-9305-109fe5dcb499",
   "metadata": {},
   "source": [
    "## top-n准确率"
   ]
  },
  {
   "cell_type": "code",
   "execution_count": 11,
   "id": "fedf6c0d-c06b-4a04-8a07-9d4c6f937338",
   "metadata": {
    "ExecuteTime": {
     "end_time": "2023-10-25T14:29:22.787949Z",
     "start_time": "2023-10-25T14:29:22.728950800Z"
    }
   },
   "outputs": [
    {
     "data": {
      "text/plain": "0.9507917418320304"
     },
     "execution_count": 11,
     "metadata": {},
     "output_type": "execute_result"
    }
   ],
   "source": [
    "sum(df['top-n预测正确']) / len(df)"
   ]
  },
  {
   "cell_type": "markdown",
   "id": "8a3de26a-3e66-404b-b64d-111835a7c0de",
   "metadata": {},
   "source": [
    "## 各类别其它评估指标\n",
    "\n",
    "公众号 人工智能小技巧 回复 混淆矩阵\n",
    "\n",
    "看子豪兄视频和笔记讲解"
   ]
  },
  {
   "cell_type": "code",
   "execution_count": 12,
   "id": "d1e22035-9163-427f-b620-d3bc079f8959",
   "metadata": {
    "ExecuteTime": {
     "end_time": "2023-10-25T14:29:24.818185500Z",
     "start_time": "2023-10-25T14:29:24.799183300Z"
    }
   },
   "outputs": [],
   "source": [
    "from sklearn.metrics import classification_report"
   ]
  },
  {
   "cell_type": "code",
   "execution_count": 13,
   "id": "18d3f8e3-8e57-42c0-97d2-62f1e33b5739",
   "metadata": {
    "ExecuteTime": {
     "end_time": "2023-10-25T14:29:25.899185200Z",
     "start_time": "2023-10-25T14:29:25.552182200Z"
    }
   },
   "outputs": [
    {
     "name": "stdout",
     "output_type": "stream",
     "text": [
      "              precision    recall  f1-score   support\n",
      "\n",
      "           云       0.83      0.83      0.83       101\n",
      "          仓鼠       0.89      0.86      0.87        63\n",
      "          兔子       0.84      0.77      0.80       100\n",
      "          兰花       0.90      0.97      0.93       101\n",
      "         割草机       0.98      0.96      0.97       100\n",
      "         向日葵       0.90      0.89      0.89       100\n",
      "          城堡       0.97      0.97      0.97       110\n",
      "          大海       0.84      0.79      0.81       100\n",
      "          大象       0.92      0.86      0.89       100\n",
      "          女人       0.73      0.71      0.72       100\n",
      "          女孩       0.71      0.76      0.73       100\n",
      "         小婴儿       0.63      0.60      0.62       101\n",
      "           山       0.75      0.85      0.80       101\n",
      "          巴士       0.98      0.98      0.98       101\n",
      "          平原       0.87      0.87      0.87       100\n",
      "           床       0.83      0.86      0.84       100\n",
      "          恐龙       0.70      0.82      0.76       101\n",
      "          房屋       0.80      0.80      0.80       100\n",
      "         拖拉机       0.97      0.98      0.98       100\n",
      "        摩天大楼       0.98      0.97      0.97       100\n",
      "         摩托车       0.94      0.97      0.96       100\n",
      "          时钟       0.94      0.98      0.96       100\n",
      "        有轨电车       0.98      0.98      0.98       101\n",
      "          杯子       0.87      0.89      0.88       100\n",
      "          松树       0.84      0.81      0.82       107\n",
      "          松鼠       0.87      0.90      0.89       100\n",
      "          枫树       0.89      0.83      0.86       100\n",
      "          柳树       0.94      0.91      0.92       100\n",
      "          桌子       0.91      0.93      0.92       100\n",
      "           桥       0.90      0.94      0.92       100\n",
      "           梨       0.94      0.94      0.94       101\n",
      "         棕榈树       0.97      0.94      0.95       100\n",
      "          森林       0.82      0.79      0.80       101\n",
      "          椅子       0.91      0.89      0.90       100\n",
      "          橘子       0.94      0.93      0.94       101\n",
      "          橡树       0.81      0.83      0.82       100\n",
      "         比目鱼       0.84      0.86      0.85       101\n",
      "          毛虫       0.77      0.86      0.82       100\n",
      "       水族馆鱼类       0.84      0.81      0.82       100\n",
      "          水濑       0.55      0.37      0.44       100\n",
      "          沙发       0.87      0.88      0.88       100\n",
      "          浣熊       0.86      0.96      0.91       100\n",
      "          海狸       0.84      0.83      0.83       100\n",
      "          海豚       0.68      0.70      0.69       101\n",
      "          海豹       0.95      0.94      0.95       101\n",
      "          海龟       0.88      0.94      0.91       100\n",
      "          火箭       0.89      0.88      0.89       101\n",
      "          火车       0.93      0.89      0.91       100\n",
      "           灯       0.80      0.76      0.78       100\n",
      "           熊       0.76      0.81      0.79       100\n",
      "           牛       0.78      0.78      0.78       101\n",
      "          狐狸       0.89      0.90      0.90       101\n",
      "          狮子       0.92      0.84      0.88       100\n",
      "           狼       0.83      0.91      0.87       100\n",
      "          玫瑰       0.89      0.85      0.87       101\n",
      "          瓶子       0.92      0.92      0.92       101\n",
      "          甜椒       0.97      0.99      0.98       100\n",
      "          甲虫       0.95      0.92      0.93       100\n",
      "          电视       0.93      0.96      0.95       100\n",
      "          电话       0.73      0.78      0.75       100\n",
      "          男人       0.65      0.80      0.71       100\n",
      "          男孩       0.58      0.45      0.50       101\n",
      "          皮卡       0.97      0.99      0.98       101\n",
      "          盘子       0.88      0.86      0.87       101\n",
      "           碗       0.86      0.87      0.87       100\n",
      "          箱子       0.96      0.92      0.94       101\n",
      "          罂粟       0.92      0.93      0.93       100\n",
      "          老虎       0.93      0.95      0.94       100\n",
      "          老鼠       0.65      0.66      0.66       100\n",
      "         自行车       0.95      0.99      0.97       102\n",
      "          臭鼬       0.94      0.81      0.87       101\n",
      "          苹果       0.88      0.85      0.86       101\n",
      "          蘑菇       0.91      0.96      0.93       100\n",
      "           蛇       0.91      0.87      0.89       101\n",
      "          蜗牛       0.94      0.96      0.95       100\n",
      "          蜘蛛       0.89      0.93      0.91       100\n",
      "          蜜蜂       0.97      0.91      0.94       100\n",
      "          蜥蜴       0.86      0.96      0.91       102\n",
      "          蝴蝶       0.92      0.89      0.90       100\n",
      "          螃蟹       0.90      0.90      0.90       101\n",
      "          蟑螂       0.96      0.92      0.94       100\n",
      "          蠕虫       0.72      0.69      0.70       127\n",
      "          衣柜       0.95      0.94      0.94       100\n",
      "          袋鼠       0.95      0.92      0.93       100\n",
      "          豪猪       0.96      0.98      0.97       100\n",
      "           豹       0.97      0.97      0.97        36\n",
      "          负鼠       0.89      0.85      0.87       101\n",
      "         郁金香       0.95      0.90      0.92       100\n",
      "         金属罐       0.88      0.85      0.86       100\n",
      "          键盘       0.94      1.00      0.97       100\n",
      "          马路       0.88      0.93      0.90       100\n",
      "          骆驼       0.93      0.94      0.94       101\n",
      "          鲨鱼       0.71      0.80      0.75       100\n",
      "          鲸鱼       0.78      0.76      0.77       100\n",
      "          鳄鱼       0.94      0.89      0.91       101\n",
      "           鳐       0.68      0.71      0.69       100\n",
      "          鳟鱼       0.81      0.77      0.79       100\n",
      "         黑猩猩       0.98      0.99      0.99       100\n",
      "          鼩鼱       0.77      0.65      0.71       101\n",
      "          龙虾       0.91      0.96      0.93       101\n",
      "\n",
      "    accuracy                           0.87      9978\n",
      "   macro avg       0.87      0.87      0.87      9978\n",
      "weighted avg       0.87      0.87      0.87      9978\n"
     ]
    }
   ],
   "source": [
    "print(classification_report(df['标注类别名称'], df['top-1-预测名称'], target_names=classes))"
   ]
  },
  {
   "cell_type": "markdown",
   "id": "df4db2a0-b1b2-4cff-92e5-fc097336b2ae",
   "metadata": {},
   "source": [
    "macro avg 宏平均：直接将每一类的评估指标求和取平均（算数平均值）\n",
    "\n",
    "weighted avg 加权平均：按样本数量（support）加权计算评估指标的平均值"
   ]
  },
  {
   "cell_type": "code",
   "execution_count": 14,
   "id": "64e2187b-a236-4518-a439-562e565739c5",
   "metadata": {
    "ExecuteTime": {
     "end_time": "2023-10-25T14:29:54.258129800Z",
     "start_time": "2023-10-25T14:29:53.904099900Z"
    }
   },
   "outputs": [],
   "source": [
    "report = classification_report(df['标注类别名称'], df['top-1-预测名称'], target_names=classes, output_dict=True)\n",
    "del report['accuracy']\n",
    "df_report = pd.DataFrame(report).transpose()"
   ]
  },
  {
   "cell_type": "code",
   "execution_count": 15,
   "id": "14266155-da0f-4c5d-9366-4273222fe600",
   "metadata": {
    "ExecuteTime": {
     "end_time": "2023-10-25T14:29:55.275093100Z",
     "start_time": "2023-10-25T14:29:55.223094100Z"
    }
   },
   "outputs": [
    {
     "data": {
      "text/plain": "              precision    recall  f1-score  support\n云              0.831683  0.831683  0.831683    101.0\n仓鼠             0.885246  0.857143  0.870968     63.0\n兔子             0.836957  0.770000  0.802083    100.0\n兰花             0.899083  0.970297  0.933333    101.0\n割草机            0.979592  0.960000  0.969697    100.0\n...                 ...       ...       ...      ...\n黑猩猩            0.980198  0.990000  0.985075    100.0\n鼩鼱             0.767442  0.653465  0.705882    101.0\n龙虾             0.906542  0.960396  0.932692    101.0\nmacro avg      0.867948  0.868162  0.867144   9978.0\nweighted avg   0.866911  0.867108  0.866091   9978.0\n\n[102 rows x 4 columns]",
      "text/html": "<div>\n<style scoped>\n    .dataframe tbody tr th:only-of-type {\n        vertical-align: middle;\n    }\n\n    .dataframe tbody tr th {\n        vertical-align: top;\n    }\n\n    .dataframe thead th {\n        text-align: right;\n    }\n</style>\n<table border=\"1\" class=\"dataframe\">\n  <thead>\n    <tr style=\"text-align: right;\">\n      <th></th>\n      <th>precision</th>\n      <th>recall</th>\n      <th>f1-score</th>\n      <th>support</th>\n    </tr>\n  </thead>\n  <tbody>\n    <tr>\n      <th>云</th>\n      <td>0.831683</td>\n      <td>0.831683</td>\n      <td>0.831683</td>\n      <td>101.0</td>\n    </tr>\n    <tr>\n      <th>仓鼠</th>\n      <td>0.885246</td>\n      <td>0.857143</td>\n      <td>0.870968</td>\n      <td>63.0</td>\n    </tr>\n    <tr>\n      <th>兔子</th>\n      <td>0.836957</td>\n      <td>0.770000</td>\n      <td>0.802083</td>\n      <td>100.0</td>\n    </tr>\n    <tr>\n      <th>兰花</th>\n      <td>0.899083</td>\n      <td>0.970297</td>\n      <td>0.933333</td>\n      <td>101.0</td>\n    </tr>\n    <tr>\n      <th>割草机</th>\n      <td>0.979592</td>\n      <td>0.960000</td>\n      <td>0.969697</td>\n      <td>100.0</td>\n    </tr>\n    <tr>\n      <th>...</th>\n      <td>...</td>\n      <td>...</td>\n      <td>...</td>\n      <td>...</td>\n    </tr>\n    <tr>\n      <th>黑猩猩</th>\n      <td>0.980198</td>\n      <td>0.990000</td>\n      <td>0.985075</td>\n      <td>100.0</td>\n    </tr>\n    <tr>\n      <th>鼩鼱</th>\n      <td>0.767442</td>\n      <td>0.653465</td>\n      <td>0.705882</td>\n      <td>101.0</td>\n    </tr>\n    <tr>\n      <th>龙虾</th>\n      <td>0.906542</td>\n      <td>0.960396</td>\n      <td>0.932692</td>\n      <td>101.0</td>\n    </tr>\n    <tr>\n      <th>macro avg</th>\n      <td>0.867948</td>\n      <td>0.868162</td>\n      <td>0.867144</td>\n      <td>9978.0</td>\n    </tr>\n    <tr>\n      <th>weighted avg</th>\n      <td>0.866911</td>\n      <td>0.867108</td>\n      <td>0.866091</td>\n      <td>9978.0</td>\n    </tr>\n  </tbody>\n</table>\n<p>102 rows × 4 columns</p>\n</div>"
     },
     "execution_count": 15,
     "metadata": {},
     "output_type": "execute_result"
    }
   ],
   "source": [
    "df_report"
   ]
  },
  {
   "cell_type": "markdown",
   "id": "a65da7a6-f1ba-4f86-8a89-11d87529f6c7",
   "metadata": {},
   "source": [
    "## 补充：各类别准确率（其实就是recall）"
   ]
  },
  {
   "cell_type": "code",
   "execution_count": 16,
   "id": "02d63458-49eb-4d8a-a264-2e09bb61bc6b",
   "metadata": {
    "ExecuteTime": {
     "end_time": "2023-10-25T14:30:39.072401700Z",
     "start_time": "2023-10-25T14:30:38.827401400Z"
    }
   },
   "outputs": [
    {
     "name": "stderr",
     "output_type": "stream",
     "text": [
      "100%|██████████| 100/100 [00:00<00:00, 440.52it/s]\n"
     ]
    }
   ],
   "source": [
    "accuracy_list = []\n",
    "for c in tqdm(classes):\n",
    "    df_temp = df[df['标注类别名称']==c]\n",
    "    accuracy = sum(df_temp['标注类别名称'] == df_temp['top-1-预测名称']) / len(df_temp)\n",
    "    accuracy_list.append(accuracy)"
   ]
  },
  {
   "cell_type": "code",
   "execution_count": 17,
   "id": "24ca5a23-b6f3-4ce3-84af-262fa5d10edb",
   "metadata": {
    "ExecuteTime": {
     "end_time": "2023-10-25T14:30:54.068758800Z",
     "start_time": "2023-10-25T14:30:54.028755700Z"
    }
   },
   "outputs": [],
   "source": [
    "# 计算 宏平均准确率 和 加权平均准确率\n",
    "acc_macro = np.mean(accuracy_list)\n",
    "acc_weighted = sum(accuracy_list * df_report.iloc[:-2]['support'] / len(df))\n",
    "\n",
    "accuracy_list.append(acc_macro)\n",
    "accuracy_list.append(acc_weighted)\n",
    "\n",
    "df_report['accuracy'] = accuracy_list"
   ]
  },
  {
   "cell_type": "code",
   "execution_count": 18,
   "id": "6f4b0b49-a8f2-4647-bc68-22f83ce29cc2",
   "metadata": {
    "ExecuteTime": {
     "end_time": "2023-10-25T14:30:54.904748800Z",
     "start_time": "2023-10-25T14:30:54.864713300Z"
    }
   },
   "outputs": [
    {
     "data": {
      "text/plain": "              precision    recall  f1-score  support  accuracy\n云              0.831683  0.831683  0.831683    101.0  0.831683\n仓鼠             0.885246  0.857143  0.870968     63.0  0.857143\n兔子             0.836957  0.770000  0.802083    100.0  0.770000\n兰花             0.899083  0.970297  0.933333    101.0  0.970297\n割草机            0.979592  0.960000  0.969697    100.0  0.960000\n...                 ...       ...       ...      ...       ...\n黑猩猩            0.980198  0.990000  0.985075    100.0  0.990000\n鼩鼱             0.767442  0.653465  0.705882    101.0  0.653465\n龙虾             0.906542  0.960396  0.932692    101.0  0.960396\nmacro avg      0.867948  0.868162  0.867144   9978.0  0.868162\nweighted avg   0.866911  0.867108  0.866091   9978.0  0.867108\n\n[102 rows x 5 columns]",
      "text/html": "<div>\n<style scoped>\n    .dataframe tbody tr th:only-of-type {\n        vertical-align: middle;\n    }\n\n    .dataframe tbody tr th {\n        vertical-align: top;\n    }\n\n    .dataframe thead th {\n        text-align: right;\n    }\n</style>\n<table border=\"1\" class=\"dataframe\">\n  <thead>\n    <tr style=\"text-align: right;\">\n      <th></th>\n      <th>precision</th>\n      <th>recall</th>\n      <th>f1-score</th>\n      <th>support</th>\n      <th>accuracy</th>\n    </tr>\n  </thead>\n  <tbody>\n    <tr>\n      <th>云</th>\n      <td>0.831683</td>\n      <td>0.831683</td>\n      <td>0.831683</td>\n      <td>101.0</td>\n      <td>0.831683</td>\n    </tr>\n    <tr>\n      <th>仓鼠</th>\n      <td>0.885246</td>\n      <td>0.857143</td>\n      <td>0.870968</td>\n      <td>63.0</td>\n      <td>0.857143</td>\n    </tr>\n    <tr>\n      <th>兔子</th>\n      <td>0.836957</td>\n      <td>0.770000</td>\n      <td>0.802083</td>\n      <td>100.0</td>\n      <td>0.770000</td>\n    </tr>\n    <tr>\n      <th>兰花</th>\n      <td>0.899083</td>\n      <td>0.970297</td>\n      <td>0.933333</td>\n      <td>101.0</td>\n      <td>0.970297</td>\n    </tr>\n    <tr>\n      <th>割草机</th>\n      <td>0.979592</td>\n      <td>0.960000</td>\n      <td>0.969697</td>\n      <td>100.0</td>\n      <td>0.960000</td>\n    </tr>\n    <tr>\n      <th>...</th>\n      <td>...</td>\n      <td>...</td>\n      <td>...</td>\n      <td>...</td>\n      <td>...</td>\n    </tr>\n    <tr>\n      <th>黑猩猩</th>\n      <td>0.980198</td>\n      <td>0.990000</td>\n      <td>0.985075</td>\n      <td>100.0</td>\n      <td>0.990000</td>\n    </tr>\n    <tr>\n      <th>鼩鼱</th>\n      <td>0.767442</td>\n      <td>0.653465</td>\n      <td>0.705882</td>\n      <td>101.0</td>\n      <td>0.653465</td>\n    </tr>\n    <tr>\n      <th>龙虾</th>\n      <td>0.906542</td>\n      <td>0.960396</td>\n      <td>0.932692</td>\n      <td>101.0</td>\n      <td>0.960396</td>\n    </tr>\n    <tr>\n      <th>macro avg</th>\n      <td>0.867948</td>\n      <td>0.868162</td>\n      <td>0.867144</td>\n      <td>9978.0</td>\n      <td>0.868162</td>\n    </tr>\n    <tr>\n      <th>weighted avg</th>\n      <td>0.866911</td>\n      <td>0.867108</td>\n      <td>0.866091</td>\n      <td>9978.0</td>\n      <td>0.867108</td>\n    </tr>\n  </tbody>\n</table>\n<p>102 rows × 5 columns</p>\n</div>"
     },
     "execution_count": 18,
     "metadata": {},
     "output_type": "execute_result"
    }
   ],
   "source": [
    "df_report"
   ]
  },
  {
   "cell_type": "code",
   "execution_count": 19,
   "id": "123e15a8-a48f-4cf6-b1de-0bf1ab673962",
   "metadata": {
    "ExecuteTime": {
     "end_time": "2023-10-25T14:31:05.160266700Z",
     "start_time": "2023-10-25T14:31:05.123279400Z"
    }
   },
   "outputs": [],
   "source": [
    "df_report.to_csv('各类别准确率评估指标.csv', encoding='utf_8_sig',index_label='类别')"
   ]
  }
 ],
 "metadata": {
  "kernelspec": {
   "display_name": "Python 3 (ipykernel)",
   "language": "python",
   "name": "python3"
  },
  "language_info": {
   "codemirror_mode": {
    "name": "ipython",
    "version": 3
   },
   "file_extension": ".py",
   "mimetype": "text/x-python",
   "name": "python",
   "nbconvert_exporter": "python",
   "pygments_lexer": "ipython3",
   "version": "3.7.10"
  }
 },
 "nbformat": 4,
 "nbformat_minor": 5
}

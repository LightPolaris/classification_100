{
 "cells": [
  {
   "cell_type": "markdown",
   "id": "753ae5b1-2f57-4f1c-ba12-0c2a6f62a23a",
   "metadata": {},
   "source": [
    "# 计算测试集图像语义特征\n",
    "\n",
    "抽取Pytorch训练得到的图像分类模型中间层的输出特征，作为输入图像的语义特征。\n",
    "\n",
    "计算测试集所有图像的语义特征，使用t-SNE和UMAP两种降维方法降维至二维和三维，可视化。\n",
    "\n",
    "分析不同类别的语义距离、异常数据、细粒度分类、高维数据结构。\n",
    "\n",
    "同济子豪兄：https://space.bilibili.com/1900783\n",
    "\n",
    "[代码运行云GPU环境](https://featurize.cn/?s=d7ce99f842414bfcaea5662a97581bd1)：GPU RTX 3060、CUDA v11.2"
   ]
  },
  {
   "cell_type": "markdown",
   "id": "0a2a232f-0178-4661-98d8-f27f6fa130bf",
   "metadata": {},
   "source": [
    "## 导入工具包"
   ]
  },
  {
   "cell_type": "code",
   "execution_count": 1,
   "id": "57328106-567d-4be0-a0bc-1a20e88ceb01",
   "metadata": {
    "ExecuteTime": {
     "end_time": "2023-10-21T14:52:40.034339600Z",
     "start_time": "2023-10-21T14:52:35.931960Z"
    }
   },
   "outputs": [
    {
     "name": "stdout",
     "output_type": "stream",
     "text": [
      "device cuda:0\n"
     ]
    }
   ],
   "source": [
    "from tqdm import tqdm\n",
    "\n",
    "import pandas as pd\n",
    "import numpy as np\n",
    "\n",
    "import torch\n",
    "\n",
    "import cv2\n",
    "from PIL import Image\n",
    "\n",
    "# 忽略烦人的红色提示\n",
    "import warnings\n",
    "warnings.filterwarnings(\"ignore\")\n",
    "\n",
    "# 有 GPU 就用 GPU，没有就用 CPU\n",
    "device = torch.device('cuda:0' if torch.cuda.is_available() else 'cpu')\n",
    "print('device', device)"
   ]
  },
  {
   "cell_type": "markdown",
   "id": "7500ea23-53d8-4421-92f6-647d41e34d80",
   "metadata": {},
   "source": [
    "## 图像预处理"
   ]
  },
  {
   "cell_type": "code",
   "execution_count": 2,
   "id": "b562b97f-9a4a-4729-b238-4acb2e77e9dc",
   "metadata": {
    "ExecuteTime": {
     "end_time": "2023-10-21T14:52:40.422417400Z",
     "start_time": "2023-10-21T14:52:40.036346900Z"
    }
   },
   "outputs": [],
   "source": [
    "from torchvision import transforms\n",
    "\n",
    "# # 训练集图像预处理：缩放裁剪、图像增强、转 Tensor、归一化\n",
    "# train_transform = transforms.Compose([transforms.RandomResizedCrop(224),\n",
    "#                                       transforms.RandomHorizontalFlip(),\n",
    "#                                       transforms.ToTensor(),\n",
    "#                                       transforms.Normalize([0.485, 0.456, 0.406], [0.229, 0.224, 0.225])\n",
    "#                                      ])\n",
    "\n",
    "# 测试集图像预处理-RCTN：缩放、裁剪、转 Tensor、归一化\n",
    "test_transform = transforms.Compose([transforms.Resize(256),\n",
    "                                     transforms.CenterCrop(224),\n",
    "                                     transforms.ToTensor(),\n",
    "                                     transforms.Normalize(\n",
    "                                         mean=[0.485, 0.456, 0.406], \n",
    "                                         std=[0.229, 0.224, 0.225])\n",
    "                                    ])"
   ]
  },
  {
   "cell_type": "markdown",
   "id": "f4a3347a-1c09-4b48-b19a-fbcc3791c08b",
   "metadata": {},
   "source": [
    "## 导入训练好的模型"
   ]
  },
  {
   "cell_type": "code",
   "execution_count": 3,
   "id": "618333ec-6e91-4342-acf3-86aaa1654068",
   "metadata": {
    "ExecuteTime": {
     "end_time": "2023-10-21T14:52:50.068328Z",
     "start_time": "2023-10-21T14:52:49.897332100Z"
    }
   },
   "outputs": [],
   "source": [
    "model = torch.load('best-0.839.pth')\n",
    "model = model.eval().to(device)"
   ]
  },
  {
   "cell_type": "markdown",
   "id": "e41c4cb2-e516-4150-9e9c-9580a26c72a3",
   "metadata": {},
   "source": [
    "## 抽取模型中间层输出结果作为语义特征"
   ]
  },
  {
   "cell_type": "code",
   "execution_count": 4,
   "id": "a9fdf127-c713-4bb4-bcc8-4f808e011229",
   "metadata": {
    "ExecuteTime": {
     "end_time": "2023-10-21T14:52:52.310547900Z",
     "start_time": "2023-10-21T14:52:52.299551800Z"
    }
   },
   "outputs": [],
   "source": [
    "from torchvision.models.feature_extraction import create_feature_extractor"
   ]
  },
  {
   "cell_type": "code",
   "execution_count": 5,
   "id": "0a4dda05-7510-40a5-bc6f-6df80fdc4c64",
   "metadata": {
    "ExecuteTime": {
     "end_time": "2023-10-21T14:52:52.939248300Z",
     "start_time": "2023-10-21T14:52:52.851249400Z"
    }
   },
   "outputs": [],
   "source": [
    "model_trunc = create_feature_extractor(model, return_nodes={'avgpool': 'semantic_feature'})"
   ]
  },
  {
   "cell_type": "markdown",
   "id": "1b7137df-1c4a-452e-be96-de7ec6a5d85e",
   "metadata": {},
   "source": [
    "## 计算单张图像的语义特征"
   ]
  },
  {
   "cell_type": "code",
   "execution_count": 6,
   "id": "157f9102-fc51-468e-a43e-1a9256dfe22a",
   "metadata": {
    "ExecuteTime": {
     "end_time": "2023-10-21T14:54:03.264877900Z",
     "start_time": "2023-10-21T14:54:00.383545200Z"
    }
   },
   "outputs": [],
   "source": [
    "img_path = 'D:/dataset/c100sp/val/山/3.jpg'\n",
    "img_pil = Image.open(img_path)\n",
    "input_img = test_transform(img_pil) # 预处理\n",
    "input_img = input_img.unsqueeze(0).to(device)\n",
    "# 执行前向预测，得到指定中间层的输出\n",
    "pred_logits = model_trunc(input_img) "
   ]
  },
  {
   "cell_type": "code",
   "execution_count": 7,
   "id": "108eb111-dc92-408c-8bf8-6111ad6a28e7",
   "metadata": {
    "ExecuteTime": {
     "end_time": "2023-10-21T14:54:04.965701500Z",
     "start_time": "2023-10-21T14:54:04.939704400Z"
    }
   },
   "outputs": [
    {
     "data": {
      "text/plain": "(512,)"
     },
     "execution_count": 7,
     "metadata": {},
     "output_type": "execute_result"
    }
   ],
   "source": [
    "pred_logits['semantic_feature'].squeeze().detach().cpu().numpy().shape"
   ]
  },
  {
   "cell_type": "code",
   "execution_count": 19,
   "id": "f70ba1f3-02c3-4bc7-92c2-5b0ee5a76762",
   "metadata": {},
   "outputs": [],
   "source": [
    "# pred_logits['semantic_feature'].squeeze().detach().cpu().numpy()"
   ]
  },
  {
   "cell_type": "markdown",
   "id": "b1d681eb-d2af-4e54-bfa2-78590dffafbe",
   "metadata": {},
   "source": [
    "## 载入测试集图像分类结果"
   ]
  },
  {
   "cell_type": "code",
   "execution_count": 8,
   "id": "6bb76734-83d2-49c9-ae35-3240595d5861",
   "metadata": {
    "ExecuteTime": {
     "end_time": "2023-10-21T14:54:08.307143800Z",
     "start_time": "2023-10-21T14:54:08.020766600Z"
    }
   },
   "outputs": [],
   "source": [
    "df = pd.read_csv('测试集预测结果.csv')"
   ]
  },
  {
   "cell_type": "code",
   "execution_count": 9,
   "id": "6de3a2b3-0035-4f01-afbc-69b87e1af806",
   "metadata": {
    "ExecuteTime": {
     "end_time": "2023-10-21T14:54:08.995034Z",
     "start_time": "2023-10-21T14:54:08.943999300Z"
    }
   },
   "outputs": [
    {
     "data": {
      "text/plain": "                              图像路径  标注类别ID 标注类别名称  top-1-预测ID top-1-预测名称  \\\n0    D:\\dataset\\c100sp\\val\\云\\1.jpg       0      云           0          云   \n1  D:\\dataset\\c100sp\\val\\云\\104.jpg       0      云          14         平原   \n2  D:\\dataset\\c100sp\\val\\云\\114.jpg       0      云           0          云   \n3  D:\\dataset\\c100sp\\val\\云\\117.jpg       0      云          12          山   \n4  D:\\dataset\\c100sp\\val\\云\\119.jpg       0      云           0          云   \n\n   top-2-预测ID top-2-预测名称  top-3-预测ID top-3-预测名称  top-n预测正确  ...  马路-预测置信度  \\\n0           7         大海          14         平原       True  ...  0.000060   \n1           0          云          90         马路       True  ...  0.069697   \n2          14         平原          31        棕榈树       True  ...  0.022053   \n3          32         森林          53          狼      False  ...  0.000292   \n4           7         大海          31        棕榈树       True  ...  0.000068   \n\n   骆驼-预测置信度      鲨鱼-预测置信度  鲸鱼-预测置信度      鳄鱼-预测置信度       鳐-预测置信度      鳟鱼-预测置信度  \\\n0  0.000040  1.181372e-07  0.000004  2.977387e-09  6.304667e-09  3.189405e-09   \n1  0.004808  1.293536e-04  0.001736  8.536536e-05  4.171297e-05  6.396510e-05   \n2  0.000182  1.216493e-05  0.000036  2.341005e-06  2.928424e-07  2.839105e-06   \n3  0.000010  5.225038e-04  0.000428  8.715899e-06  5.395877e-05  3.008884e-04   \n4  0.000010  7.296929e-08  0.000044  1.468976e-08  1.890725e-07  1.472791e-08   \n\n      黑猩猩-预测置信度      鼩鼱-预测置信度      龙虾-预测置信度  \n0  4.727857e-11  2.193562e-09  2.824035e-09  \n1  3.752041e-06  4.593624e-05  7.946980e-06  \n2  2.938487e-09  1.435803e-07  2.018639e-07  \n3  2.871890e-07  1.960987e-05  1.221918e-07  \n4  2.531981e-10  1.882827e-08  3.410407e-08  \n\n[5 rows x 110 columns]",
      "text/html": "<div>\n<style scoped>\n    .dataframe tbody tr th:only-of-type {\n        vertical-align: middle;\n    }\n\n    .dataframe tbody tr th {\n        vertical-align: top;\n    }\n\n    .dataframe thead th {\n        text-align: right;\n    }\n</style>\n<table border=\"1\" class=\"dataframe\">\n  <thead>\n    <tr style=\"text-align: right;\">\n      <th></th>\n      <th>图像路径</th>\n      <th>标注类别ID</th>\n      <th>标注类别名称</th>\n      <th>top-1-预测ID</th>\n      <th>top-1-预测名称</th>\n      <th>top-2-预测ID</th>\n      <th>top-2-预测名称</th>\n      <th>top-3-预测ID</th>\n      <th>top-3-预测名称</th>\n      <th>top-n预测正确</th>\n      <th>...</th>\n      <th>马路-预测置信度</th>\n      <th>骆驼-预测置信度</th>\n      <th>鲨鱼-预测置信度</th>\n      <th>鲸鱼-预测置信度</th>\n      <th>鳄鱼-预测置信度</th>\n      <th>鳐-预测置信度</th>\n      <th>鳟鱼-预测置信度</th>\n      <th>黑猩猩-预测置信度</th>\n      <th>鼩鼱-预测置信度</th>\n      <th>龙虾-预测置信度</th>\n    </tr>\n  </thead>\n  <tbody>\n    <tr>\n      <th>0</th>\n      <td>D:\\dataset\\c100sp\\val\\云\\1.jpg</td>\n      <td>0</td>\n      <td>云</td>\n      <td>0</td>\n      <td>云</td>\n      <td>7</td>\n      <td>大海</td>\n      <td>14</td>\n      <td>平原</td>\n      <td>True</td>\n      <td>...</td>\n      <td>0.000060</td>\n      <td>0.000040</td>\n      <td>1.181372e-07</td>\n      <td>0.000004</td>\n      <td>2.977387e-09</td>\n      <td>6.304667e-09</td>\n      <td>3.189405e-09</td>\n      <td>4.727857e-11</td>\n      <td>2.193562e-09</td>\n      <td>2.824035e-09</td>\n    </tr>\n    <tr>\n      <th>1</th>\n      <td>D:\\dataset\\c100sp\\val\\云\\104.jpg</td>\n      <td>0</td>\n      <td>云</td>\n      <td>14</td>\n      <td>平原</td>\n      <td>0</td>\n      <td>云</td>\n      <td>90</td>\n      <td>马路</td>\n      <td>True</td>\n      <td>...</td>\n      <td>0.069697</td>\n      <td>0.004808</td>\n      <td>1.293536e-04</td>\n      <td>0.001736</td>\n      <td>8.536536e-05</td>\n      <td>4.171297e-05</td>\n      <td>6.396510e-05</td>\n      <td>3.752041e-06</td>\n      <td>4.593624e-05</td>\n      <td>7.946980e-06</td>\n    </tr>\n    <tr>\n      <th>2</th>\n      <td>D:\\dataset\\c100sp\\val\\云\\114.jpg</td>\n      <td>0</td>\n      <td>云</td>\n      <td>0</td>\n      <td>云</td>\n      <td>14</td>\n      <td>平原</td>\n      <td>31</td>\n      <td>棕榈树</td>\n      <td>True</td>\n      <td>...</td>\n      <td>0.022053</td>\n      <td>0.000182</td>\n      <td>1.216493e-05</td>\n      <td>0.000036</td>\n      <td>2.341005e-06</td>\n      <td>2.928424e-07</td>\n      <td>2.839105e-06</td>\n      <td>2.938487e-09</td>\n      <td>1.435803e-07</td>\n      <td>2.018639e-07</td>\n    </tr>\n    <tr>\n      <th>3</th>\n      <td>D:\\dataset\\c100sp\\val\\云\\117.jpg</td>\n      <td>0</td>\n      <td>云</td>\n      <td>12</td>\n      <td>山</td>\n      <td>32</td>\n      <td>森林</td>\n      <td>53</td>\n      <td>狼</td>\n      <td>False</td>\n      <td>...</td>\n      <td>0.000292</td>\n      <td>0.000010</td>\n      <td>5.225038e-04</td>\n      <td>0.000428</td>\n      <td>8.715899e-06</td>\n      <td>5.395877e-05</td>\n      <td>3.008884e-04</td>\n      <td>2.871890e-07</td>\n      <td>1.960987e-05</td>\n      <td>1.221918e-07</td>\n    </tr>\n    <tr>\n      <th>4</th>\n      <td>D:\\dataset\\c100sp\\val\\云\\119.jpg</td>\n      <td>0</td>\n      <td>云</td>\n      <td>0</td>\n      <td>云</td>\n      <td>7</td>\n      <td>大海</td>\n      <td>31</td>\n      <td>棕榈树</td>\n      <td>True</td>\n      <td>...</td>\n      <td>0.000068</td>\n      <td>0.000010</td>\n      <td>7.296929e-08</td>\n      <td>0.000044</td>\n      <td>1.468976e-08</td>\n      <td>1.890725e-07</td>\n      <td>1.472791e-08</td>\n      <td>2.531981e-10</td>\n      <td>1.882827e-08</td>\n      <td>3.410407e-08</td>\n    </tr>\n  </tbody>\n</table>\n<p>5 rows × 110 columns</p>\n</div>"
     },
     "execution_count": 9,
     "metadata": {},
     "output_type": "execute_result"
    }
   ],
   "source": [
    "df.head()"
   ]
  },
  {
   "cell_type": "markdown",
   "id": "74e7d010-df35-4fb9-8dcb-1af2d5399681",
   "metadata": {},
   "source": [
    "## 计算测试集每张图像的语义特征"
   ]
  },
  {
   "cell_type": "code",
   "execution_count": 10,
   "id": "0d630667-6b6b-4fdd-8c4d-28286499330b",
   "metadata": {
    "ExecuteTime": {
     "end_time": "2023-10-21T14:56:47.976044500Z",
     "start_time": "2023-10-21T14:54:11.706042Z"
    }
   },
   "outputs": [
    {
     "name": "stderr",
     "output_type": "stream",
     "text": [
      "100%|██████████| 9978/9978 [02:36<00:00, 63.88it/s]\n"
     ]
    }
   ],
   "source": [
    "encoding_array = []\n",
    "img_path_list = []\n",
    "\n",
    "for img_path in tqdm(df['图像路径']):\n",
    "    img_path_list.append(img_path)\n",
    "    img_pil = Image.open(img_path).convert('RGB')\n",
    "    input_img = test_transform(img_pil).unsqueeze(0).to(device) # 预处理\n",
    "    feature = model_trunc(input_img)['semantic_feature'].squeeze().detach().cpu().numpy() # 执行前向预测，得到 avgpool 层输出的语义特征\n",
    "    encoding_array.append(feature)\n",
    "encoding_array = np.array(encoding_array)"
   ]
  },
  {
   "cell_type": "code",
   "execution_count": 11,
   "id": "fec12f5b-35d0-4367-8ac1-7d7321eecee9",
   "metadata": {
    "ExecuteTime": {
     "end_time": "2023-10-21T14:56:49.706873300Z",
     "start_time": "2023-10-21T14:56:49.664100700Z"
    }
   },
   "outputs": [
    {
     "data": {
      "text/plain": "(9978, 512)"
     },
     "execution_count": 11,
     "metadata": {},
     "output_type": "execute_result"
    }
   ],
   "source": [
    "encoding_array.shape"
   ]
  },
  {
   "cell_type": "markdown",
   "id": "c434aad3-9689-4e77-bef7-1daa4400e590",
   "metadata": {},
   "source": [
    "## 保存为本地的.npy文件"
   ]
  },
  {
   "cell_type": "code",
   "execution_count": 12,
   "id": "896a318d-430c-4b59-9c94-0b08ba0106dd",
   "metadata": {
    "ExecuteTime": {
     "end_time": "2023-10-21T14:56:52.079434500Z",
     "start_time": "2023-10-21T14:56:52.061410700Z"
    }
   },
   "outputs": [],
   "source": [
    "# 保存为本地的 npy 文件\n",
    "np.save('测试集语义特征.npy', encoding_array)"
   ]
  },
  {
   "cell_type": "code",
   "execution_count": null,
   "id": "4417cdc4-0bad-428c-896f-1d35d31401a8",
   "metadata": {},
   "outputs": [],
   "source": []
  }
 ],
 "metadata": {
  "kernelspec": {
   "display_name": "Python 3 (ipykernel)",
   "language": "python",
   "name": "python3"
  },
  "language_info": {
   "codemirror_mode": {
    "name": "ipython",
    "version": 3
   },
   "file_extension": ".py",
   "mimetype": "text/x-python",
   "name": "python",
   "nbconvert_exporter": "python",
   "pygments_lexer": "ipython3",
   "version": "3.7.10"
  }
 },
 "nbformat": 4,
 "nbformat_minor": 5
}

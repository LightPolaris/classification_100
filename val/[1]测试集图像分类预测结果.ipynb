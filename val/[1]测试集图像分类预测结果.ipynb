{
 "cells": [
  {
   "cell_type": "markdown",
   "id": "753ae5b1-2f57-4f1c-ba12-0c2a6f62a23a",
   "metadata": {},
   "source": [
    "# 测试集图像分类预测结果\n",
    "\n",
    "使用训练好的图像分类模型，预测测试集的所有图像，得到预测结果表格。\n",
    "\n",
    "同济子豪兄：https://space.bilibili.com/1900783\n",
    "\n",
    "[代码运行云GPU环境](https://featurize.cn/?s=d7ce99f842414bfcaea5662a97581bd1)：GPU RTX 3060、CUDA v11.2"
   ]
  },
  {
   "cell_type": "markdown",
   "id": "0a2a232f-0178-4661-98d8-f27f6fa130bf",
   "metadata": {},
   "source": [
    "## 导入工具包"
   ]
  },
  {
   "cell_type": "code",
   "execution_count": 2,
   "id": "9d995962-4dff-4a21-bf0f-0e88c707c1a6",
   "metadata": {
    "ExecuteTime": {
     "end_time": "2023-10-25T14:09:41.857957400Z",
     "start_time": "2023-10-25T14:09:36.307957900Z"
    }
   },
   "outputs": [
    {
     "name": "stdout",
     "output_type": "stream",
     "text": [
      "device cuda:0\n"
     ]
    }
   ],
   "source": [
    "import os\n",
    "from tqdm import tqdm\n",
    "\n",
    "import numpy as np\n",
    "import pandas as pd\n",
    "\n",
    "from PIL import Image\n",
    "\n",
    "import torch\n",
    "import torch.nn.functional as F\n",
    "\n",
    "# 有 GPU 就用 GPU，没有就用 CPU\n",
    "device = torch.device('cuda:0' if torch.cuda.is_available() else 'cpu')\n",
    "print('device', device)"
   ]
  },
  {
   "cell_type": "markdown",
   "id": "7500ea23-53d8-4421-92f6-647d41e34d80",
   "metadata": {},
   "source": [
    "## 图像预处理"
   ]
  },
  {
   "cell_type": "code",
   "execution_count": 3,
   "id": "b562b97f-9a4a-4729-b238-4acb2e77e9dc",
   "metadata": {
    "ExecuteTime": {
     "end_time": "2023-10-25T14:09:42.429960200Z",
     "start_time": "2023-10-25T14:09:41.862960400Z"
    }
   },
   "outputs": [],
   "source": [
    "from torchvision import transforms\n",
    "\n",
    "# # 训练集图像预处理：缩放裁剪、图像增强、转 Tensor、归一化\n",
    "# train_transform = transforms.Compose([transforms.RandomResizedCrop(224),\n",
    "#                                       transforms.RandomHorizontalFlip(),\n",
    "#                                       transforms.ToTensor(),\n",
    "#                                       transforms.Normalize([0.485, 0.456, 0.406], [0.229, 0.224, 0.225])\n",
    "#                                      ])\n",
    "\n",
    "# 测试集图像预处理-RCTN：缩放、裁剪、转 Tensor、归一化\n",
    "test_transform = transforms.Compose([transforms.Resize(256),\n",
    "                                     transforms.CenterCrop(224),\n",
    "                                     transforms.ToTensor(),\n",
    "                                     transforms.Normalize(\n",
    "                                         mean=[0.485, 0.456, 0.406], \n",
    "                                         std=[0.229, 0.224, 0.225])\n",
    "                                    ])"
   ]
  },
  {
   "cell_type": "markdown",
   "id": "1c5a8421-c8db-4e91-bb9e-9f39a14951ad",
   "metadata": {},
   "source": [
    "## 载入测试集（和训练代码教程相同）"
   ]
  },
  {
   "cell_type": "code",
   "execution_count": 4,
   "id": "c1569e29-a9f8-4ddf-95ed-b3afd7105640",
   "metadata": {
    "ExecuteTime": {
     "end_time": "2023-10-25T14:09:42.604957700Z",
     "start_time": "2023-10-25T14:09:42.433958200Z"
    }
   },
   "outputs": [
    {
     "name": "stdout",
     "output_type": "stream",
     "text": [
      "测试集图像数量 9978\n",
      "类别个数 100\n",
      "各类别名称 ['云', '仓鼠', '兔子', '兰花', '割草机', '向日葵', '城堡', '大海', '大象', '女人', '女孩', '小婴儿', '山', '巴士', '平原', '床', '恐龙', '房屋', '拖拉机', '摩天大楼', '摩托车', '时钟', '有轨电车', '杯子', '松树', '松鼠', '枫树', '柳树', '桌子', '桥', '梨', '棕榈树', '森林', '椅子', '橘子', '橡树', '比目鱼', '毛虫', '水族馆鱼类', '水濑', '沙发', '浣熊', '海狸', '海豚', '海豹', '海龟', '火箭', '火车', '灯', '熊', '牛', '狐狸', '狮子', '狼', '玫瑰', '瓶子', '甜椒', '甲虫', '电视', '电话', '男人', '男孩', '皮卡', '盘子', '碗', '箱子', '罂粟', '老虎', '老鼠', '自行车', '臭鼬', '苹果', '蘑菇', '蛇', '蜗牛', '蜘蛛', '蜜蜂', '蜥蜴', '蝴蝶', '螃蟹', '蟑螂', '蠕虫', '衣柜', '袋鼠', '豪猪', '豹', '负鼠', '郁金香', '金属罐', '键盘', '马路', '骆驼', '鲨鱼', '鲸鱼', '鳄鱼', '鳐', '鳟鱼', '黑猩猩', '鼩鼱', '龙虾']\n",
      "['云', '仓鼠', '兔子', '兰花', '割草机', '向日葵', '城堡', '大海', '大象', '女人', '女孩', '小婴儿', '山', '巴士', '平原', '床', '恐龙', '房屋', '拖拉机', '摩天大楼', '摩托车', '时钟', '有轨电车', '杯子', '松树', '松鼠', '枫树', '柳树', '桌子', '桥', '梨', '棕榈树', '森林', '椅子', '橘子', '橡树', '比目鱼', '毛虫', '水族馆鱼类', '水濑', '沙发', '浣熊', '海狸', '海豚', '海豹', '海龟', '火箭', '火车', '灯', '熊', '牛', '狐狸', '狮子', '狼', '玫瑰', '瓶子', '甜椒', '甲虫', '电视', '电话', '男人', '男孩', '皮卡', '盘子', '碗', '箱子', '罂粟', '老虎', '老鼠', '自行车', '臭鼬', '苹果', '蘑菇', '蛇', '蜗牛', '蜘蛛', '蜜蜂', '蜥蜴', '蝴蝶', '螃蟹', '蟑螂', '蠕虫', '衣柜', '袋鼠', '豪猪', '豹', '负鼠', '郁金香', '金属罐', '键盘', '马路', '骆驼', '鲨鱼', '鲸鱼', '鳄鱼', '鳐', '鳟鱼', '黑猩猩', '鼩鼱', '龙虾']\n"
     ]
    }
   ],
   "source": [
    "# 数据集文件夹路径\n",
    "dataset_dir = 'D:\\\\dataset\\\\c100sp'\n",
    "test_path = os.path.join(dataset_dir, 'val')\n",
    "from torchvision import datasets\n",
    "# 载入测试集\n",
    "test_dataset = datasets.ImageFolder(test_path, test_transform)\n",
    "print('测试集图像数量', len(test_dataset))\n",
    "print('类别个数', len(test_dataset.classes))\n",
    "print('各类别名称', test_dataset.classes)\n",
    "# 载入类别名称 和 ID索引号 的映射字典\n",
    "idx_to_labels = np.load('idx_to_labels.npy', allow_pickle=True).item()\n",
    "# 获得类别名称\n",
    "classes = list(idx_to_labels.values())\n",
    "print(classes)"
   ]
  },
  {
   "cell_type": "markdown",
   "id": "f4a3347a-1c09-4b48-b19a-fbcc3791c08b",
   "metadata": {},
   "source": [
    "## 导入训练好的模型"
   ]
  },
  {
   "cell_type": "code",
   "execution_count": 5,
   "id": "618333ec-6e91-4342-acf3-86aaa1654068",
   "metadata": {
    "ExecuteTime": {
     "end_time": "2023-10-25T14:09:42.907959500Z",
     "start_time": "2023-10-25T14:09:42.599960300Z"
    }
   },
   "outputs": [],
   "source": [
    "model = torch.load('best-0.867.pth')\n",
    "model = model.eval().to(device)"
   ]
  },
  {
   "cell_type": "markdown",
   "id": "d9652b70-7371-4798-85d6-5ad4170341f2",
   "metadata": {},
   "source": [
    "## 表格A-测试集图像路径及标注"
   ]
  },
  {
   "cell_type": "code",
   "execution_count": 6,
   "id": "0a169289-b385-497b-81d4-1c7d206ea480",
   "metadata": {
    "ExecuteTime": {
     "end_time": "2023-10-25T14:09:42.932956600Z",
     "start_time": "2023-10-25T14:09:42.910959800Z"
    }
   },
   "outputs": [
    {
     "data": {
      "text/plain": "[('D:\\\\dataset\\\\c100sp\\\\val\\\\云\\\\1.jpg', 0),\n ('D:\\\\dataset\\\\c100sp\\\\val\\\\云\\\\104.jpg', 0),\n ('D:\\\\dataset\\\\c100sp\\\\val\\\\云\\\\114.jpg', 0),\n ('D:\\\\dataset\\\\c100sp\\\\val\\\\云\\\\117.jpg', 0),\n ('D:\\\\dataset\\\\c100sp\\\\val\\\\云\\\\119.jpg', 0),\n ('D:\\\\dataset\\\\c100sp\\\\val\\\\云\\\\131.jpeg', 0),\n ('D:\\\\dataset\\\\c100sp\\\\val\\\\云\\\\14.jpeg', 0),\n ('D:\\\\dataset\\\\c100sp\\\\val\\\\云\\\\142.jpg', 0),\n ('D:\\\\dataset\\\\c100sp\\\\val\\\\云\\\\145.jpg', 0),\n ('D:\\\\dataset\\\\c100sp\\\\val\\\\云\\\\150.jpg', 0)]"
     },
     "execution_count": 6,
     "metadata": {},
     "output_type": "execute_result"
    }
   ],
   "source": [
    "test_dataset.imgs[:10]"
   ]
  },
  {
   "cell_type": "code",
   "execution_count": 7,
   "id": "2fa4d1bd-b60b-4837-b6b0-18b32872c21c",
   "metadata": {
    "ExecuteTime": {
     "end_time": "2023-10-25T14:09:42.979955100Z",
     "start_time": "2023-10-25T14:09:42.927958800Z"
    }
   },
   "outputs": [],
   "source": [
    "img_paths = [each[0] for each in test_dataset.imgs]"
   ]
  },
  {
   "cell_type": "code",
   "execution_count": 8,
   "id": "2fcbbb76-6d90-4e8d-903b-4ab042529623",
   "metadata": {
    "ExecuteTime": {
     "end_time": "2023-10-25T14:09:43.002957100Z",
     "start_time": "2023-10-25T14:09:42.943960800Z"
    }
   },
   "outputs": [],
   "source": [
    "df = pd.DataFrame()\n",
    "df['图像路径'] = img_paths\n",
    "df['标注类别ID'] = test_dataset.targets\n",
    "df['标注类别名称'] = [idx_to_labels[ID] for ID in test_dataset.targets]"
   ]
  },
  {
   "cell_type": "code",
   "execution_count": 9,
   "id": "d22ef546-903e-409f-8811-8505e987e886",
   "metadata": {
    "ExecuteTime": {
     "end_time": "2023-10-25T14:09:43.048956700Z",
     "start_time": "2023-10-25T14:09:42.969957200Z"
    }
   },
   "outputs": [],
   "source": [
    "df.to_csv('测试集标注.csv', index=False)"
   ]
  },
  {
   "cell_type": "markdown",
   "id": "ba15f7d4-6dc3-46dd-9aa0-a44912e8b555",
   "metadata": {},
   "source": [
    "## 表格B-测试集每张图像的图像分类预测结果，以及各类别置信度"
   ]
  },
  {
   "cell_type": "code",
   "execution_count": 10,
   "id": "e7c894fe-454f-400b-9507-253f8436520d",
   "metadata": {
    "ExecuteTime": {
     "end_time": "2023-10-25T14:09:43.206958500Z",
     "start_time": "2023-10-25T14:09:43.177959800Z"
    }
   },
   "outputs": [],
   "source": [
    "# 记录 top-n 预测结果\n",
    "n = 3"
   ]
  },
  {
   "cell_type": "code",
   "execution_count": 11,
   "id": "7ef6f5af-525d-46cd-ad57-a0936bd34177",
   "metadata": {
    "ExecuteTime": {
     "end_time": "2023-10-25T14:27:14.212696700Z",
     "start_time": "2023-10-25T14:09:43.626960800Z"
    }
   },
   "outputs": [
    {
     "name": "stderr",
     "output_type": "stream",
     "text": [
      "305it [00:23, 12.84it/s]C:\\Users\\POLARIS\\.conda\\envs\\nsuai\\lib\\site-packages\\PIL\\Image.py:970: UserWarning: Palette images with Transparency expressed in bytes should be converted to RGBA images\n",
      "  warnings.warn(\n",
      "2404it [03:13, 11.97it/s]C:\\Users\\POLARIS\\.conda\\envs\\nsuai\\lib\\site-packages\\PIL\\Image.py:970: UserWarning: Palette images with Transparency expressed in bytes should be converted to RGBA images\n",
      "  warnings.warn(\n",
      "2440it [03:16, 10.47it/s]C:\\Users\\POLARIS\\.conda\\envs\\nsuai\\lib\\site-packages\\PIL\\Image.py:970: UserWarning: Palette images with Transparency expressed in bytes should be converted to RGBA images\n",
      "  warnings.warn(\n",
      "3427it [04:50, 12.49it/s]C:\\Users\\POLARIS\\.conda\\envs\\nsuai\\lib\\site-packages\\PIL\\Image.py:970: UserWarning: Palette images with Transparency expressed in bytes should be converted to RGBA images\n",
      "  warnings.warn(\n",
      "8789it [14:35,  7.81it/s]C:\\Users\\POLARIS\\.conda\\envs\\nsuai\\lib\\site-packages\\PIL\\Image.py:970: UserWarning: Palette images with Transparency expressed in bytes should be converted to RGBA images\n",
      "  warnings.warn(\n",
      "9978it [17:30,  9.50it/s]\n"
     ]
    }
   ],
   "source": [
    "df_pred = pd.DataFrame()\n",
    "for idx, row in tqdm(df.iterrows()):\n",
    "    img_path = row['图像路径']\n",
    "    img_pil = Image.open(img_path).convert('RGB')\n",
    "    input_img = test_transform(img_pil).unsqueeze(0).to(device) # 预处理\n",
    "    pred_logits = model(input_img) # 执行前向预测，得到所有类别的 logit 预测分数\n",
    "    pred_softmax = F.softmax(pred_logits, dim=1) # 对 logit 分数做 softmax 运算\n",
    "\n",
    "    pred_dict = {}\n",
    "\n",
    "    top_n = torch.topk(pred_softmax, n) # 取置信度最大的 n 个结果\n",
    "    pred_ids = top_n[1].cpu().detach().numpy().squeeze() # 解析出类别\n",
    "    \n",
    "    # top-n 预测结果\n",
    "    for i in range(1, n+1):\n",
    "        pred_dict['top-{}-预测ID'.format(i)] = pred_ids[i-1]\n",
    "        pred_dict['top-{}-预测名称'.format(i)] = idx_to_labels[pred_ids[i-1]]\n",
    "    pred_dict['top-n预测正确'] = row['标注类别ID'] in pred_ids\n",
    "    # 每个类别的预测置信度\n",
    "    for idx, each in enumerate(classes):\n",
    "        pred_dict['{}-预测置信度'.format(each)] = pred_softmax[0][idx].cpu().detach().numpy()\n",
    "        \n",
    "    df_pred = df_pred._append(pred_dict, ignore_index=True)     "
   ]
  },
  {
   "cell_type": "markdown",
   "id": "f0bcef2f-61a4-4900-9c57-c3de32719036",
   "metadata": {},
   "source": [
    "## 拼接AB两张表格"
   ]
  },
  {
   "cell_type": "code",
   "execution_count": 12,
   "id": "9442976c-6075-4fd6-82e9-1c5d81dd866f",
   "metadata": {
    "ExecuteTime": {
     "end_time": "2023-10-25T14:27:14.263695700Z",
     "start_time": "2023-10-25T14:27:14.208696700Z"
    }
   },
   "outputs": [],
   "source": [
    "df = pd.concat([df, df_pred], axis=1)"
   ]
  },
  {
   "cell_type": "markdown",
   "id": "03ded529-bc87-4007-89af-a1904d49ba2a",
   "metadata": {},
   "source": [
    "## 导出完整表格"
   ]
  },
  {
   "cell_type": "code",
   "execution_count": 13,
   "id": "7cb9c4b2-7c99-4f67-a52a-106e67a1d58c",
   "metadata": {
    "ExecuteTime": {
     "end_time": "2023-10-25T14:27:17.787706700Z",
     "start_time": "2023-10-25T14:27:14.267696600Z"
    }
   },
   "outputs": [],
   "source": [
    "df.to_csv('测试集预测结果.csv',encoding=\"utf_8_sig\", index=False)"
   ]
  }
 ],
 "metadata": {
  "kernelspec": {
   "display_name": "Python 3 (ipykernel)",
   "language": "python",
   "name": "python3"
  },
  "language_info": {
   "codemirror_mode": {
    "name": "ipython",
    "version": 3
   },
   "file_extension": ".py",
   "mimetype": "text/x-python",
   "name": "python",
   "nbconvert_exporter": "python",
   "pygments_lexer": "ipython3",
   "version": "3.7.10"
  }
 },
 "nbformat": 4,
 "nbformat_minor": 5
}

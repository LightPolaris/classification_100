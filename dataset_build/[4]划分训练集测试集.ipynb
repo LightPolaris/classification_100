{
 "cells": [
  {
   "cell_type": "markdown",
   "id": "65f90911-c910-4cb9-ab55-ad41e3ffd568",
   "metadata": {},
   "source": [
    "# 划分训练集和测试集\n",
    "\n",
    "同济子豪兄 https://space.bilibili.com/1900783\n",
    "\n",
    "代码运行[云GPU平台](https://featurize.cn/?s=d7ce99f842414bfcaea5662a97581bd1)\n",
    "\n",
    "2022-7-22"
   ]
  },
  {
   "cell_type": "markdown",
   "id": "aa621a92-e18e-46a0-aefb-5e57d4374f7b",
   "metadata": {},
   "source": [
    "## 导入工具包"
   ]
  },
  {
   "cell_type": "code",
   "execution_count": 40,
   "id": "acfeb9c9-2a3e-45cf-bd07-3472d09519d6",
   "metadata": {
    "ExecuteTime": {
     "end_time": "2023-10-25T15:47:14.208074300Z",
     "start_time": "2023-10-25T15:47:14.192075800Z"
    }
   },
   "outputs": [],
   "source": [
    "import os\n",
    "import shutil\n",
    "import random\n",
    "import pandas as pd"
   ]
  },
  {
   "cell_type": "markdown",
   "id": "ea237880-2fa1-4aff-a1d3-56e616f6a897",
   "metadata": {},
   "source": [
    "## 获得所有类别名称"
   ]
  },
  {
   "cell_type": "code",
   "execution_count": 41,
   "id": "512a0bda-f31f-4f26-b727-85369eebca48",
   "metadata": {
    "ExecuteTime": {
     "end_time": "2023-10-25T15:47:15.436075700Z",
     "start_time": "2023-10-25T15:47:15.424075Z"
    }
   },
   "outputs": [],
   "source": [
    "# 指定数据集路径\n",
    "dataset_path = 'D:\\\\dataset\\\\c100'\n",
    "dataset_path_t = 'D:\\\\dataset\\\\c100v2'"
   ]
  },
  {
   "cell_type": "code",
   "execution_count": 42,
   "id": "a59265d8-848b-45d4-9cb1-5d43c81f8e6a",
   "metadata": {
    "ExecuteTime": {
     "end_time": "2023-10-25T15:47:16.436093400Z",
     "start_time": "2023-10-25T15:47:16.415075900Z"
    }
   },
   "outputs": [
    {
     "name": "stdout",
     "output_type": "stream",
     "text": [
      "数据集 D:\\dataset\\c100\n"
     ]
    }
   ],
   "source": [
    "dataset_name = dataset_path.split('_')[0]\n",
    "print('数据集', dataset_name)"
   ]
  },
  {
   "cell_type": "code",
   "execution_count": 43,
   "id": "3b62be1b-f42a-4477-8b44-2dd12817e44f",
   "metadata": {
    "ExecuteTime": {
     "end_time": "2023-10-25T15:47:16.835238Z",
     "start_time": "2023-10-25T15:47:16.815237900Z"
    }
   },
   "outputs": [],
   "source": [
    "classes = os.listdir(dataset_path)"
   ]
  },
  {
   "cell_type": "code",
   "execution_count": 44,
   "id": "a51ea20e-ba30-499d-8d93-b6448e584465",
   "metadata": {
    "ExecuteTime": {
     "end_time": "2023-10-25T15:47:17.665238Z",
     "start_time": "2023-10-25T15:47:17.648237300Z"
    }
   },
   "outputs": [
    {
     "data": {
      "text/plain": "100"
     },
     "execution_count": 44,
     "metadata": {},
     "output_type": "execute_result"
    }
   ],
   "source": [
    "len(classes)"
   ]
  },
  {
   "cell_type": "code",
   "execution_count": 45,
   "id": "af01e960-d178-4cff-bc8b-ce1520d642c1",
   "metadata": {
    "ExecuteTime": {
     "end_time": "2023-10-25T15:47:18.196192900Z",
     "start_time": "2023-10-25T15:47:18.171195700Z"
    }
   },
   "outputs": [
    {
     "data": {
      "text/plain": "['云',\n '仓鼠',\n '兔子',\n '兰花',\n '割草机',\n '向日葵',\n '城堡',\n '大海',\n '大象',\n '女人',\n '女孩',\n '小婴儿',\n '山',\n '巴士',\n '平原',\n '床',\n '恐龙',\n '房屋',\n '拖拉机',\n '摩天大楼',\n '摩托车',\n '时钟',\n '有轨电车',\n '杯子',\n '松树',\n '松鼠',\n '枫树',\n '柳树',\n '桌子',\n '桥',\n '梨',\n '棕榈树',\n '森林',\n '椅子',\n '橘子',\n '橡树',\n '比目鱼',\n '毛虫',\n '水族馆鱼类',\n '水濑',\n '沙发',\n '浣熊',\n '海狸',\n '海豚',\n '海豹',\n '海龟',\n '火箭',\n '火车',\n '灯',\n '熊',\n '牛',\n '狐狸',\n '狮子',\n '狼',\n '玫瑰',\n '瓶子',\n '甜椒',\n '甲虫',\n '电视',\n '电话',\n '男人',\n '男孩',\n '皮卡',\n '盘子',\n '碗',\n '箱子',\n '罂粟',\n '老虎',\n '老鼠',\n '自行车',\n '臭鼬',\n '苹果',\n '蘑菇',\n '蛇',\n '蜗牛',\n '蜘蛛',\n '蜜蜂',\n '蜥蜴',\n '蝴蝶',\n '螃蟹',\n '蟑螂',\n '蠕虫',\n '衣柜',\n '袋鼠',\n '豪猪',\n '豹',\n '负鼠',\n '郁金香',\n '金属罐',\n '键盘',\n '马路',\n '骆驼',\n '鲨鱼',\n '鲸鱼',\n '鳄鱼',\n '鳐',\n '鳟鱼',\n '黑猩猩',\n '鼩鼱',\n '龙虾']"
     },
     "execution_count": 45,
     "metadata": {},
     "output_type": "execute_result"
    }
   ],
   "source": [
    "classes"
   ]
  },
  {
   "cell_type": "markdown",
   "id": "a6b4d257-5bdc-4830-bb34-6936e04916ad",
   "metadata": {},
   "source": [
    "## 创建训练集文件夹和测试集文件夹"
   ]
  },
  {
   "cell_type": "code",
   "execution_count": 35,
   "id": "522222b5-9128-420d-a134-fb0b4cdc38ca",
   "metadata": {
    "ExecuteTime": {
     "end_time": "2023-10-25T15:30:59.573965700Z",
     "start_time": "2023-10-25T15:30:59.025006100Z"
    }
   },
   "outputs": [],
   "source": [
    "# 创建 train 文件夹\n",
    "\n",
    "os.mkdir(os.path.join(dataset_path_t, 'train'))\n",
    "\n",
    "# 创建 test 文件夹\n",
    "os.mkdir(os.path.join(dataset_path_t, 'val'))\n",
    "\n",
    "# 在 train 和 test 文件夹中创建各类别子文件夹\n",
    "for fruit in classes:\n",
    "    os.mkdir(os.path.join(dataset_path_t, 'train', fruit))\n",
    "    os.mkdir(os.path.join(dataset_path_t, 'val', fruit))"
   ]
  },
  {
   "cell_type": "markdown",
   "id": "b890d0aa-4563-4f92-ac35-771acb588604",
   "metadata": {},
   "source": [
    "## 划分训练集、测试集，移动文件"
   ]
  },
  {
   "cell_type": "code",
   "execution_count": 46,
   "id": "eb2ad0c2-e3c6-481c-8589-51cdd2aeb516",
   "metadata": {
    "ExecuteTime": {
     "end_time": "2023-10-25T15:47:21.595116700Z",
     "start_time": "2023-10-25T15:47:21.584156600Z"
    }
   },
   "outputs": [],
   "source": [
    "test_frac = 0.2  # 测试集比例\n",
    "random.seed(123) # 随机数种子，便于复现"
   ]
  },
  {
   "cell_type": "code",
   "execution_count": 48,
   "id": "3ef9944c-a36d-4d62-a38b-78faa33fb9f1",
   "metadata": {
    "ExecuteTime": {
     "end_time": "2023-10-25T15:47:47.425957400Z",
     "start_time": "2023-10-25T15:47:47.206960100Z"
    }
   },
   "outputs": [
    {
     "name": "stdout",
     "output_type": "stream",
     "text": [
      "        类别              训练集数据个数            测试集数据个数      \n",
      "        云                 406                101        \n",
      "        仓鼠                402                100        \n",
      "        兔子                404                100        \n",
      "        兰花                405                101        \n",
      "       割草机                403                100        \n",
      "       向日葵                404                100        \n",
      "        城堡                408                101        \n",
      "        大海                403                100        \n",
      "        大象                404                100        \n",
      "        女人                404                100        \n",
      "        女孩                403                100        \n",
      "       小婴儿                405                101        \n",
      "        山                 406                101        \n",
      "        巴士                404                101        \n",
      "        平原                402                100        \n",
      "        床                 403                100        \n",
      "        恐龙                408                101        \n",
      "        房屋                404                100        \n",
      "       拖拉机                401                100        \n",
      "       摩天大楼               402                100        \n",
      "       摩托车                401                100        \n",
      "        时钟                403                100        \n",
      "       有轨电车               405                101        \n",
      "        杯子                402                100        \n",
      "        松树                407                101        \n",
      "        松鼠                404                100        \n",
      "        枫树                401                100        \n",
      "        柳树                402                100        \n",
      "        桌子                403                100        \n",
      "        桥                 403                100        \n",
      "        梨                 407                101        \n",
      "       棕榈树                401                100        \n",
      "        森林                405                101        \n",
      "        椅子                404                100        \n",
      "        橘子                405                101        \n",
      "        橡树                403                100        \n",
      "       比目鱼                405                101        \n",
      "        毛虫                401                100        \n",
      "      水族馆鱼类               401                100        \n",
      "        水濑                404                100        \n",
      "        沙发                404                100        \n",
      "        浣熊                404                100        \n",
      "        海狸                402                100        \n",
      "        海豚                404                101        \n",
      "        海豹                406                101        \n",
      "        海龟                401                100        \n",
      "        火箭                405                101        \n",
      "        火车                402                100        \n",
      "        灯                 401                100        \n",
      "        熊                 404                100        \n",
      "        牛                 404                101        \n",
      "        狐狸                406                101        \n",
      "        狮子                403                100        \n",
      "        狼                 403                100        \n",
      "        玫瑰                404                101        \n",
      "        瓶子                404                101        \n",
      "        甜椒                401                100        \n",
      "        甲虫                403                100        \n",
      "        电视                404                100        \n",
      "        电话                403                100        \n",
      "        男人                403                100        \n",
      "        男孩                404                101        \n",
      "        皮卡                405                101        \n",
      "        盘子                404                101        \n",
      "        碗                 401                100        \n",
      "        箱子                405                101        \n",
      "        罂粟                402                100        \n",
      "        老虎                401                100        \n",
      "        老鼠                402                100        \n",
      "       自行车                408                102        \n",
      "        臭鼬                405                101        \n",
      "        苹果                408                101        \n",
      "        蘑菇                403                100        \n",
      "        蛇                 405                101        \n",
      "        蜗牛                402                100        \n",
      "        蜘蛛                401                100        \n",
      "        蜜蜂                401                100        \n",
      "        蜥蜴                410                102        \n",
      "        蝴蝶                402                100        \n",
      "        螃蟹                405                101        \n",
      "        蟑螂                402                100        \n",
      "        蠕虫                404                101        \n",
      "        衣柜                402                100        \n",
      "        袋鼠                402                100        \n",
      "        豪猪                403                100        \n",
      "        豹                 404                100        \n",
      "        负鼠                407                101        \n",
      "       郁金香                403                100        \n",
      "       金属罐                403                100        \n",
      "        键盘                401                100        \n",
      "        马路                403                100        \n",
      "        骆驼                407                101        \n",
      "        鲨鱼                401                100        \n",
      "        鲸鱼                402                100        \n",
      "        鳄鱼                405                101        \n",
      "        鳐                 402                100        \n",
      "        鳟鱼                401                100        \n",
      "       黑猩猩                401                100        \n",
      "        鼩鼱                404                101        \n",
      "        龙虾                405                101        \n"
     ]
    }
   ],
   "source": [
    "df = pd.DataFrame()\n",
    "\n",
    "print('{:^18} {:^18} {:^18}'.format('类别', '训练集数据个数', '测试集数据个数'))\n",
    "\n",
    "for fruit in classes: # 遍历每个类别\n",
    "\n",
    "    # 读取该类别的所有图像文件名\n",
    "    old_dir = os.path.join(dataset_path, fruit)\n",
    "    images_filename = os.listdir(old_dir)\n",
    "    random.shuffle(images_filename) # 随机打乱\n",
    "\n",
    "    # 划分训练集和测试集\n",
    "    testset_numer = int(len(images_filename) * test_frac) # 测试集图像个数\n",
    "    testset_images = images_filename[:testset_numer]      # 获取拟移动至 test 目录的测试集图像文件名\n",
    "    trainset_images = images_filename[testset_numer:]     # 获取拟移动至 train 目录的训练集图像文件名\n",
    "\n",
    "    #移动图像至 test 目录\n",
    "    # for image in testset_images:\n",
    "    #     old_img_path = os.path.join(dataset_path, fruit, image)         # 获取原始文件路径\n",
    "    #     new_test_path = os.path.join(dataset_path_t, 'val', fruit, image) # 获取 test 目录的新文件路径\n",
    "    #     shutil.copy(old_img_path, new_test_path) # 移动文件\n",
    "    # \n",
    "    # # 移动图像至 train 目录\n",
    "    # for image in trainset_images:\n",
    "    #     old_img_path = os.path.join(dataset_path, fruit, image)           # 获取原始文件路径\n",
    "    #     new_train_path = os.path.join(dataset_path_t, 'train', fruit, image) # 获取 train 目录的新文件路径\n",
    "    #     shutil.copy(old_img_path, new_train_path) # 移动文件\n",
    "\n",
    "    # 工整地输出每一类别的数据个数\n",
    "    print('{:^18} {:^18} {:^18}'.format(fruit, len(trainset_images), len(testset_images)))\n",
    "    \n",
    "    # 保存到表格中\n",
    "    df = df._append({'class':fruit, 'trainset':len(trainset_images), 'testset':len(testset_images)}, ignore_index=True)\n",
    "\n",
    "\n",
    "# 数据集各类别数量统计表格，导出为 csv 文件\n",
    "df['total'] = df['trainset'] + df['testset']\n",
    "df.to_csv('数据量统计.csv',encoding='utf_8_sig' ,index=False)"
   ]
  },
  {
   "cell_type": "code",
   "execution_count": 39,
   "id": "2ca80db6-9537-4203-9e1c-8873c473a95c",
   "metadata": {
    "ExecuteTime": {
     "end_time": "2023-10-25T15:41:36.418838600Z",
     "start_time": "2023-10-25T15:41:36.375805700Z"
    }
   },
   "outputs": [
    {
     "data": {
      "text/plain": "   class  trainset  testset  total\n0      云       406      101    507\n1     仓鼠       402      100    502\n2     兔子       404      100    504\n3     兰花       405      101    506\n4    割草机       403      100    503\n..   ...       ...      ...    ...\n95     鳐       402      100    502\n96    鳟鱼       401      100    501\n97   黑猩猩       401      100    501\n98    鼩鼱       404      101    505\n99    龙虾       405      101    506\n\n[100 rows x 4 columns]",
      "text/html": "<div>\n<style scoped>\n    .dataframe tbody tr th:only-of-type {\n        vertical-align: middle;\n    }\n\n    .dataframe tbody tr th {\n        vertical-align: top;\n    }\n\n    .dataframe thead th {\n        text-align: right;\n    }\n</style>\n<table border=\"1\" class=\"dataframe\">\n  <thead>\n    <tr style=\"text-align: right;\">\n      <th></th>\n      <th>class</th>\n      <th>trainset</th>\n      <th>testset</th>\n      <th>total</th>\n    </tr>\n  </thead>\n  <tbody>\n    <tr>\n      <th>0</th>\n      <td>云</td>\n      <td>406</td>\n      <td>101</td>\n      <td>507</td>\n    </tr>\n    <tr>\n      <th>1</th>\n      <td>仓鼠</td>\n      <td>402</td>\n      <td>100</td>\n      <td>502</td>\n    </tr>\n    <tr>\n      <th>2</th>\n      <td>兔子</td>\n      <td>404</td>\n      <td>100</td>\n      <td>504</td>\n    </tr>\n    <tr>\n      <th>3</th>\n      <td>兰花</td>\n      <td>405</td>\n      <td>101</td>\n      <td>506</td>\n    </tr>\n    <tr>\n      <th>4</th>\n      <td>割草机</td>\n      <td>403</td>\n      <td>100</td>\n      <td>503</td>\n    </tr>\n    <tr>\n      <th>...</th>\n      <td>...</td>\n      <td>...</td>\n      <td>...</td>\n      <td>...</td>\n    </tr>\n    <tr>\n      <th>95</th>\n      <td>鳐</td>\n      <td>402</td>\n      <td>100</td>\n      <td>502</td>\n    </tr>\n    <tr>\n      <th>96</th>\n      <td>鳟鱼</td>\n      <td>401</td>\n      <td>100</td>\n      <td>501</td>\n    </tr>\n    <tr>\n      <th>97</th>\n      <td>黑猩猩</td>\n      <td>401</td>\n      <td>100</td>\n      <td>501</td>\n    </tr>\n    <tr>\n      <th>98</th>\n      <td>鼩鼱</td>\n      <td>404</td>\n      <td>101</td>\n      <td>505</td>\n    </tr>\n    <tr>\n      <th>99</th>\n      <td>龙虾</td>\n      <td>405</td>\n      <td>101</td>\n      <td>506</td>\n    </tr>\n  </tbody>\n</table>\n<p>100 rows × 4 columns</p>\n</div>"
     },
     "execution_count": 39,
     "metadata": {},
     "output_type": "execute_result"
    }
   ],
   "source": [
    "df"
   ]
  }
 ],
 "metadata": {
  "kernelspec": {
   "display_name": "Python 3 (ipykernel)",
   "language": "python",
   "name": "python3"
  },
  "language_info": {
   "codemirror_mode": {
    "name": "ipython",
    "version": 3
   },
   "file_extension": ".py",
   "mimetype": "text/x-python",
   "name": "python",
   "nbconvert_exporter": "python",
   "pygments_lexer": "ipython3",
   "version": "3.7.10"
  }
 },
 "nbformat": 4,
 "nbformat_minor": 5
}

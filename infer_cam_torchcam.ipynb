{
 "cells": [
  {
   "cell_type": "markdown",
   "metadata": {},
   "source": [
    "# torch-cam可解释性分析可视化\n",
    "\n",
    "同济子豪兄 https://space.bilibili.com/1900783\n",
    "\n",
    "代码运行云GPU平台：https://featurize.cn/?s=d7ce99f842414bfcaea5662a97581bd1\n",
    "\n",
    "2022-8-19"
   ],
   "id": "f347d03bffefa1c0"
  },
  {
   "cell_type": "markdown",
   "metadata": {},
   "source": [
    "## 导入工具包"
   ],
   "id": "7b495c933e2473ad"
  },
  {
   "cell_type": "code",
   "execution_count": 3,
   "metadata": {
    "ExecuteTime": {
     "end_time": "2023-10-25T17:48:26.437774100Z",
     "start_time": "2023-10-25T17:48:17.136835300Z"
    }
   },
   "outputs": [
    {
     "name": "stdout",
     "output_type": "stream",
     "text": [
      "device: cuda:0\n"
     ]
    },
    {
     "name": "stderr",
     "output_type": "stream",
     "text": [
      "WARNING:root:no value was provided for `target_layer`, thus set to 'layer4'.\n",
      "WARNING:root:no value was provided for `fc_layer`, thus set to 'fc'.\n"
     ]
    }
   ],
   "source": [
    "import os\n",
    "import time\n",
    "\n",
    "import numpy as np\n",
    "import pandas as pd\n",
    "\n",
    "import cv2 # opencv-python\n",
    "from PIL import Image, ImageFont, ImageDraw\n",
    "from tqdm import tqdm # 进度条\n",
    "\n",
    "import matplotlib.pyplot as plt\n",
    "%matplotlib inline\n",
    "\n",
    "import torch\n",
    "from torchcam.utils import overlay_mask\n",
    "# 有 GPU 就用 GPU，没有就用 CPU\n",
    "device = torch.device('cuda:0' if torch.cuda.is_available() else 'cpu')\n",
    "print('device:', device)\n",
    "# 导入中文字体，指定字号\n",
    "font = ImageFont.truetype('SimHei.ttf', 50)\n",
    "model = torch.load('checkpoints/resnet50/fc/best-0.867.pth', map_location=torch.device('cpu'))\n",
    "model = model.eval().to(device)\n",
    "idx_to_labels_cn = np.load('idx_to_labels.npy', allow_pickle=True).item()\n",
    "\n",
    "from torchcam.methods import CAM\n",
    "# CAM GradCAM GradCAMpp ISCAM LayerCAM SSCAM ScoreCAM SmoothGradCAMpp XGradCAM\n",
    "cam_extractor = CAM(model)\n",
    "\n",
    "\n",
    "from torchvision import transforms\n",
    "# 测试集图像预处理-RCTN：缩放、裁剪、转 Tensor、归一化\n",
    "test_transform = transforms.Compose([transforms.Resize(256),\n",
    "                                     transforms.CenterCrop(224),\n",
    "                                     transforms.ToTensor(),\n",
    "                                     transforms.Normalize(\n",
    "                                         mean=[0.485, 0.456, 0.406], \n",
    "                                         std=[0.229, 0.224, 0.225])\n",
    "                                    ])\n",
    "\n",
    "def process_frame(img, show_class_id=None, Chinese=True):\n",
    "    '''\n",
    "    输入摄像头画面bgr-array和用于绘制热力图的类别ID，输出写字的热力图bgr-array\n",
    "    如果不指定类别ID，则为置信度最高的预测类别ID\n",
    "    '''\n",
    "    \n",
    "    img_bgr = img\n",
    "    img_rgb = cv2.cvtColor(img, cv2.COLOR_BGR2RGB) # BGR 转 RGB\n",
    "    img_pil = Image.fromarray(img_rgb) # array 转 pil\n",
    "    input_tensor = test_transform(img_pil).unsqueeze(0).to(device) # 预处理\n",
    "    pred_logits = model(input_tensor) # 执行前向预测，得到所有类别的 logit 预测分数\n",
    "    pred_top1 = torch.topk(pred_logits, 1)\n",
    "    pred_id = pred_top1[1].detach().cpu().numpy().squeeze().item()\n",
    "    \n",
    "    # 可视化热力图的类别ID，如果为 None，则为置信度最高的预测类别ID\n",
    "    if show_class_id:\n",
    "        show_id = show_class_id\n",
    "    else:\n",
    "        show_id = pred_id\n",
    "        show_class_id = pred_id\n",
    "        \n",
    "    # 生成可解释性分析热力图\n",
    "    activation_map = cam_extractor(show_id, pred_logits)\n",
    "    activation_map = activation_map[0][0].detach().cpu().numpy()\n",
    "    result = overlay_mask(img_pil, Image.fromarray(activation_map), alpha=0.7)\n",
    "    \n",
    "    # 在图像上写字\n",
    "    draw = ImageDraw.Draw(result)\n",
    "\n",
    "    # 在图像上写英文\n",
    "    text_pred = 'Pred Class: {}'.format(idx_to_labels_cn[pred_id])\n",
    "    text_show = 'Show Class: {}'.format(idx_to_labels_cn[show_class_id])\n",
    "    # 文字坐标，中文字符串，字体，rgba颜色\n",
    "    draw.text((50, 100), text_pred, font=font, fill=(255, 0, 0, 1))\n",
    "    draw.text((50, 200), text_show, font=font, fill=(255, 0, 0, 1))\n",
    "        \n",
    "    img_rgb = np.array(result)\n",
    "    img_bgr = cv2.cvtColor(img_rgb, cv2.COLOR_BGR2RGB)\n",
    "    return img_bgr"
   ],
   "id": "1b39becb8140b56a"
  },
  {
   "cell_type": "code",
   "execution_count": 4,
   "metadata": {
    "ExecuteTime": {
     "end_time": "2023-10-25T17:48:39.141325Z",
     "start_time": "2023-10-25T17:48:30.469550200Z"
    }
   },
   "outputs": [],
   "source": [
    "# 调用摄像头逐帧实时处理模板\n",
    "# 不需修改任何代码，只需修改process_frame函数即可\n",
    "# 同济子豪兄 2021-7-8\n",
    "\n",
    "# 导入opencv-python\n",
    "import cv2\n",
    "import time\n",
    "\n",
    "# 获取摄像头，传入0表示获取系统默认摄像头\n",
    "cap = cv2.VideoCapture(1)\n",
    "\n",
    "# 打开cap\n",
    "cap.open(0)\n",
    "\n",
    "# 无限循环，直到break被触发\n",
    "while cap.isOpened():\n",
    "    # 获取画面\n",
    "    success, frame = cap.read()\n",
    "    if not success:\n",
    "        print('Error')\n",
    "        break\n",
    "    \n",
    "    ## !!!处理帧函数\n",
    "    frame = process_frame(frame) # 类别：最高置信度预测类别\n",
    "    # frame = process_frame(frame, show_class_id=11) # 类别：猕猴桃\n",
    "    \n",
    "    # 展示处理后的三通道图像\n",
    "    cv2.imshow('my_window',frame)\n",
    "\n",
    "    if cv2.waitKey(1) in [ord('q'),27]: # 按键盘上的q或esc退出（在英文输入法下）\n",
    "        break\n",
    "    \n",
    "# 关闭摄像头\n",
    "cap.release()\n",
    "\n",
    "# 关闭图像窗口\n",
    "cv2.destroyAllWindows()"
   ],
   "id": "12cdd01846e3c8e4"
  }
 ],
 "metadata": {
  "kernelspec": {
   "display_name": "Python 3",
   "language": "python",
   "name": "python3"
  },
  "language_info": {
   "codemirror_mode": {
    "name": "ipython",
    "version": 3
   },
   "file_extension": ".py",
   "mimetype": "text/x-python",
   "name": "python",
   "nbconvert_exporter": "python",
   "pygments_lexer": "ipython3",
   "version": "3.7.2"
  }
 },
 "nbformat": 4,
 "nbformat_minor": 5
}
